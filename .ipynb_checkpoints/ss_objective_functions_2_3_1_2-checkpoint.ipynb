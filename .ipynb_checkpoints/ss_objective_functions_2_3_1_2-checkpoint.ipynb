{
 "cells": [
  {
   "cell_type": "code",
   "execution_count": 1,
   "metadata": {},
   "outputs": [],
   "source": [
    "import pandas as pd\n",
    "import numpy as np\n",
    "import matplotlib.pyplot as plt\n",
    "import math\n",
    "from sklearn.metrics import mean_squared_error\n",
    "from scipy.interpolate import interp1d\n",
    "from sklearn import preprocessing\n"
   ]
  },
  {
   "cell_type": "code",
   "execution_count": 2,
   "metadata": {},
   "outputs": [],
   "source": [
    "df = pd.read_csv('ss_curves.csv')\n",
    "\n"
   ]
  },
  {
   "cell_type": "code",
   "execution_count": null,
   "metadata": {},
   "outputs": [],
   "source": []
  },
  {
   "cell_type": "code",
   "execution_count": 3,
   "metadata": {},
   "outputs": [],
   "source": [
    "def preprocess(df):\n",
    "    stress = np.array([df[col] for col in df.columns if \"stress\" in col])\n",
    "    strain = np.array([df[col] for col in df.columns if \"strain\" in col])\n",
    "    labels = [\"Experimental\"] + [f\"Simulated {i}\" for i in range(1, len(stress)+1)]\n",
    "\n",
    "    # Cut the excess values above and below the experimental values.\n",
    "    exp_strain = strain[0]\n",
    "    x_min, x_max = 0.002, exp_strain.max()\n",
    "    prune = np.logical_and(strain[1] > x_min, strain[1] < x_max)  # Indices to prune simulated curves by\n",
    "    sim_strain = strain[1:][:, prune]\n",
    "    sim_stress = stress[1:][:, prune]\n",
    "    # Linear Interpolation\n",
    "    f = interp1d(exp_strain, stress[0])\n",
    "    exp_stress = f(sim_strain[0]) # The target curve\n",
    "    return exp_stress, sim_stress, sim_strain[0], labels\n",
    "\n",
    "exp_stress, sim_stresses, strainobj, labels = preprocess(df)\n",
    "\n",
    "sigma_hats = sim_stresses\n",
    "\n",
    "def plot(stress, strain, label):\n",
    "    plt.figure(figsize=(20,12))\n",
    "    for x,y,label in zip(strain,stress,label):\n",
    "        plt.plot(x, y, label=label)\n",
    "    plt.xlim([0,0.1])\n",
    "    plt.ylim([900,1100])\n",
    "    plt.vlines(strain[0].max(), 0, 1100, linestyle='dotted')\n",
    "    plt.legend()\n",
    "    plt.show()\n",
    "    \n",
    "def elastic(stress, strain, trueStrain):\n",
    "\n",
    "    # Obtain the elastic stress and strain based on r-squared\n",
    "\n",
    "    trimValue = np.arange(0.001, 0.02, 0.00001)\n",
    "    trimValue = np.flip(trimValue)\n",
    "    r2 = 0.00\n",
    "    elasticTrueStrain = trueStrain\n",
    "    elasticStrain = strain\n",
    "    elasticStress = stress\n",
    "    while(r2 <= 0.95):\n",
    "        for x in trimValue:\n",
    "            val = np.argmax(strain >= x)\n",
    "            elasticTrueStrain = trueStrain[0:val]\n",
    "            elasticStrain = strain[0:val]\n",
    "            elasticStress = stress[0:val]\n",
    "            r2 = adjR(elasticStrain, elasticStress, 1)\n",
    "\n",
    "    #trimmedTrueStrain = trueStrain.drop(range(1, val))\n",
    "    #trimmedStress = stress.drop(range(1, val))\n",
    "    #trimmedStrain = strain.drop(range(1, val))\n",
    "\n",
    "\n",
    "\n",
    "    return elasticStress, elasticStrain, elasticTrueStrain\n",
    "\n",
    "\n",
    "def adjR(x, y, degree):\n",
    "    results = []\n",
    "    coeffs = np.polyfit(x, y, degree)\n",
    "    p = np.poly1d(coeffs)\n",
    "    yhat = p(x)\n",
    "    ybar = np.sum(y)/len(y)\n",
    "    ssreg = np.sum((yhat-ybar)**2)\n",
    "    sstot = np.sum((y - ybar)**2)\n",
    "    results = 1- (((1-(ssreg/sstot))*(len(y)-1))/(len(y)-degree-1))\n",
    "    return results\n"
   ]
  },
  {
   "cell_type": "code",
   "execution_count": 45,
   "metadata": {},
   "outputs": [
    {
     "data": {
      "image/png": "[encoded data removed]",
      "text/plain": [
       "<Figure size 432x288 with 1 Axes>"
      ]
     },
     "metadata": {
      "needs_background": "light"
     },
     "output_type": "display_data"
    }
   ],
   "source": [
    "# D1 loss function: L2 loss \n",
    "def D1(exp_stress, sim_stress): \n",
    "    return np.sqrt(np.sum(np.square(exp_stress - sim_stress))/np.sum(np.square(exp_stress)))\n",
    "\n",
    "# Running on every index of sigma_hats (the sim_stresses)\n",
    "resD1 = []\n",
    "for n in sigma_hats:\n",
    "    resD1 += [D1(exp_stress, n)]\n",
    "resD1\n",
    "# Plotting the results \n",
    "fig = plt.figure()\n",
    "ax = fig.add_axes([0,0,1,1])\n",
    "xs = ['1', '2', '3', '4', '5', '6', '7']\n",
    "ys = resD1\n",
    "ax.bar(xs,ys, color = 'skyblue')\n",
    "plt.title(\"D1 Objective Function Results\")\n",
    "plt.show()"
   ]
  },
  {
   "cell_type": "code",
   "execution_count": 5,
   "metadata": {},
   "outputs": [
    {
     "data": {
      "text/plain": [
       "array([[ 813.2455865,  816.5666045,  819.8388699, ..., 1038.012942 ,\n",
       "        1038.034377 , 1038.055498 ],\n",
       "       [ 820.0345888,  825.4232753,  830.411651 , ..., 1064.467897 ,\n",
       "        1064.695235 , 1064.921978 ],\n",
       "       [ 819.3556886,  824.5376082,  829.3543729, ..., 1061.822401 ,\n",
       "        1062.029149 , 1062.23533  ],\n",
       "       ...,\n",
       "       [ 816.6400876,  820.9949399,  825.1252605, ..., 1051.240419 ,\n",
       "        1051.364806 , 1051.488738 ],\n",
       "       [ 815.2822872,  819.2236057,  823.0107042, ..., 1045.949428 ,\n",
       "        1046.032634 , 1046.115442 ],\n",
       "       [ 813.9244867,  817.4522715,  820.896148 , ..., 1040.658437 ,\n",
       "        1040.700463 , 1040.742146 ]])"
      ]
     },
     "execution_count": 5,
     "metadata": {},
     "output_type": "execute_result"
    }
   ],
   "source": [
    "sigma_hats"
   ]
  },
  {
   "cell_type": "code",
   "execution_count": 6,
   "metadata": {},
   "outputs": [
    {
     "data": {
      "text/plain": [
       "[0.3645477236903419,\n",
       " 0.2551780659976657,\n",
       " 0.2593286783862619,\n",
       " 0.27316172992056276,\n",
       " 0.2934448452363655,\n",
       " 0.3189498541833756,\n",
       " 0.34853223545586676]"
      ]
     },
     "execution_count": 6,
     "metadata": {},
     "output_type": "execute_result"
    }
   ],
   "source": [
    "# D2 function, the difference of the average slope between the response and experimental max\n",
    "\n",
    "def D2(exp_stress, sim_stress):\n",
    "    exp_stress_d1 = np.diff(exp_stress)/np.diff(strainobj)\n",
    "    sim_stress_d1 = np.diff(sim_stress)/np.diff(strainobj)\n",
    "    return np.sqrt(np.sum(np.square(sim_stress_d1 - exp_stress_d1))/np.sum(np.square(exp_stress_d1)))\n",
    "\n",
    "# Testing on every index of sigma_hats\n",
    "resD2 = []\n",
    "for n in sigma_hats:\n",
    "    resD2 += [D2(exp_stress, n)]\n",
    "resD2"
   ]
  },
  {
   "cell_type": "code",
   "execution_count": 48,
   "metadata": {},
   "outputs": [
    {
     "data": {
      "image/png": "[encoded data removed]",
      "text/plain": [
       "<Figure size 432x288 with 1 Axes>"
      ]
     },
     "metadata": {
      "needs_background": "light"
     },
     "output_type": "display_data"
    }
   ],
   "source": [
    "fig = plt.figure()\n",
    "ax = fig.add_axes([0,0,1,1])\n",
    "xs = ['1', '2', '3', '4', '5', '6', '7']\n",
    "ys = resD2\n",
    "ax.bar(xs,ys, color = 'lightskyblue')\n",
    "plt.title(\"D2 Objective Function Results\")\n",
    "plt.show()"
   ]
  },
  {
   "cell_type": "code",
   "execution_count": null,
   "metadata": {},
   "outputs": [],
   "source": []
  },
  {
   "cell_type": "code",
   "execution_count": 47,
   "metadata": {},
   "outputs": [
    {
     "data": {
      "image/png": "[encoded data removed]",
      "text/plain": [
       "<Figure size 432x288 with 1 Axes>"
      ]
     },
     "metadata": {
      "needs_background": "light"
     },
     "output_type": "display_data"
    }
   ],
   "source": [
    "# D3 Function, max(Derivation of stress at each strain between exp. and sim. ) \n",
    "\n",
    "def D3(exp_stress, sim_stress):\n",
    "    return np.max(np.sqrt(np.square(exp_stress - sim_stress)/sum(np.square(exp_stress))))\n",
    "\n",
    "\n",
    "# Testing on every index of sigma_hats\n",
    "resD3 = []\n",
    "for n in sigma_hats:\n",
    "   resD3 += [D3(exp_stress, n)]\n",
    "resD3\n",
    "\n",
    "fig = plt.figure()\n",
    "ax = fig.add_axes([0,0,1,1])\n",
    "xs = ['1', '2', '3', '4', '5', '6', '7']\n",
    "ys = resD3\n",
    "ax.bar(xs,ys, color = 'lightskyblue')\n",
    "plt.title(\"D3 Objective Function Results\")\n",
    "plt.show()\n"
   ]
  },
  {
   "cell_type": "code",
   "execution_count": 46,
   "metadata": {},
   "outputs": [
    {
     "data": {
      "image/png": "[encoded data removed]",
      "text/plain": [
       "<Figure size 432x288 with 1 Axes>"
      ]
     },
     "metadata": {
      "needs_background": "light"
     },
     "output_type": "display_data"
    }
   ],
   "source": [
    "# D4 function, max(Derivation of slope at each strain between exp. and sim. ) \n",
    "\n",
    "def D4(exp_stress, sim_stress):\n",
    "    exp_stress_d1 = np.diff(exp_stress)/np.diff(strainobj)\n",
    "    sim_stress_d1 = np.diff(sim_stress)/np.diff(strainobj)\n",
    "    \n",
    "    return max(np.sqrt(np.square(sim_stress_d1 - exp_stress_d1))/np.sum(np.square(exp_stress_d1)))\n",
    "     \n",
    "\n",
    "# Testing on every index of sigma_hats\n",
    "resD4 = []\n",
    "for n in sigma_hats:\n",
    "   resD4 += [D4(exp_stress, n)]\n",
    "\n",
    "fig = plt.figure()\n",
    "ax = fig.add_axes([0,0,1,1])\n",
    "xs = ['1', '2', '3', '4', '5', '6', '7']\n",
    "ys = resD4\n",
    "ax.bar(xs,ys, color = 'lightskyblue')\n",
    "plt.title(\"D4 Objective Function Results\")\n",
    "plt.show()"
   ]
  },
  {
   "cell_type": "code",
   "execution_count": 10,
   "metadata": {},
   "outputs": [
    {
     "data": {
      "image/png": "[encoded data removed]",
      "text/plain": [
       "<Figure size 432x288 with 1 Axes>"
      ]
     },
     "metadata": {
      "needs_background": "light"
     },
     "output_type": "display_data"
    }
   ],
   "source": [
    "# D5 function, the sum of the 2 distance functions above\n",
    "\n",
    "def D5(exp_stress, sim_stress):\n",
    "    return D1(exp_stress, sim_stress) + D2(exp_stress, sim_stress)\n",
    "\n",
    "# Testing on every index of sigma_hats\n",
    "resD5 = []\n",
    "for n in sigma_hats:\n",
    "   resD5 += [D5(exp_stress, n)]\n",
    "resD5\n",
    "\n",
    "fig = plt.figure()\n",
    "ax = fig.add_axes([0,0,1,1])\n",
    "xs = ['1', '2', '3', '4', '5', '6', '7']\n",
    "ys = resD5\n",
    "ax.bar(xs,ys)\n",
    "plt.show()"
   ]
  },
  {
   "cell_type": "code",
   "execution_count": 11,
   "metadata": {},
   "outputs": [
    {
     "data": {
      "image/png": "[encoded data removed]",
      "text/plain": [
       "<Figure size 432x288 with 1 Axes>"
      ]
     },
     "metadata": {
      "needs_background": "light"
     },
     "output_type": "display_data"
    }
   ],
   "source": [
    "# D6 function, the weighted sum of L2 and D2\n",
    "\n",
    "def D6(exp_stress, sim_stress, wL2, wD2): #wL2 and wD2 are the weights chosen for each type of objective funtion\n",
    "    return wL2*(D1(exp_stress, sim_stress)) + wD2*(D2(exp_stress, sim_stress))\n",
    "\n",
    "# Testing on every index of sigma_hats\n",
    "resD6 = []\n",
    "for n in sigma_hats:\n",
    "    resD6 += [D6(exp_stress, n, 0.5, 0.5)]\n",
    "resD6\n",
    "\n",
    "fig = plt.figure()\n",
    "ax = fig.add_axes([0,0,1,1])\n",
    "xs = ['1', '2', '3', '4', '5', '6', '7']\n",
    "ys = resD6\n",
    "ax.bar(xs,ys)\n",
    "plt.show()\n"
   ]
  },
  {
   "cell_type": "code",
   "execution_count": 12,
   "metadata": {},
   "outputs": [
    {
     "data": {
      "text/plain": [
       "[0.3722846078014638,\n",
       " 0.2647451862272738,\n",
       " 0.2678198725840472,\n",
       " 0.2797572334954339,\n",
       " 0.29886647135991923,\n",
       " 0.32450099519139125,\n",
       " 0.35538034412786235]"
      ]
     },
     "execution_count": 12,
     "metadata": {},
     "output_type": "execute_result"
    }
   ],
   "source": [
    "def fitness(exp_stress, sim_stress, w1, w2, w3, w4):\n",
    "    \n",
    "    return ( w1*D1(exp_stress, sim_stress) + w2*D2(exp_stress, sim_stress) \n",
    "            + w3*D3(exp_stress, sim_stress) + w4*D4(exp_stress, sim_stress))\n",
    "     \n",
    "\n",
    "\n",
    "# Testing on every index of sigma_hats\n",
    "res_fit = []\n",
    "for n in sigma_hats:\n",
    "   res_fit += [fitness(exp_stress, n, 1, 1, 1, 1)]\n",
    "res_fit"
   ]
  },
  {
   "cell_type": "code",
   "execution_count": 13,
   "metadata": {},
   "outputs": [],
   "source": [
    "# D1 loss function: L2 loss \n",
    "def D1(exp_stress, sim_stress): \n",
    "    return np.sqrt(np.sum(np.square(exp_stress - sim_stress))/np.sum(np.square(exp_stress)))\n",
    "\n",
    "# D2 function, the difference of the average slope between the response and experimental max\n",
    "def D2(exp_stress, sim_stress):\n",
    "    exp_stress_d1 = np.diff(exp_stress)/np.diff(strainobj)\n",
    "    sim_stress_d1 = np.diff(sim_stress)/np.diff(strainobj)\n",
    "    return np.sqrt(np.sum(np.square(sim_stress_d1 - exp_stress_d1))/np.sum(np.square(exp_stress_d1)))\n",
    "\n",
    "# D3 Function, max(Derivation of stress at each strain between exp. and sim. ) \n",
    "def D3(exp_stress, sim_stress):\n",
    "    return np.max(np.sqrt(np.square(exp_stress - sim_stress)/sum(np.square(exp_stress))))\n",
    "\n",
    "# D4 function, max(Derivation of slope at each strain between exp. and sim. ) \n",
    "def D4(exp_stress, sim_stress):\n",
    "    exp_stress_d1 = np.diff(exp_stress)/np.diff(strainobj)\n",
    "    sim_stress_d1 = np.diff(sim_stress)/np.diff(strainobj)\n",
    "    \n",
    "    return max(np.sqrt(np.square(sim_stress_d1 - exp_stress_d1))/np.sum(np.square(exp_stress_d1)))\n",
    "\n",
    "#Fitness, weighted sum of loss functions\n",
    "def fitness(exp_stress, sim_stress, w1, w2, w3, w4):\n",
    "    \n",
    "    return ( w1*D1(exp_stress, sim_stress) + w2*D2(exp_stress, sim_stress) \n",
    "            + w3*D3(exp_stress, sim_stress) + w4*D4(exp_stress, sim_stress))\n"
   ]
  },
  {
   "cell_type": "code",
   "execution_count": 14,
   "metadata": {},
   "outputs": [
    {
     "data": {
      "image/png": "[encoded data removed]",
      "text/plain": [
       "<Figure size 432x288 with 1 Axes>"
      ]
     },
     "metadata": {
      "needs_background": "light"
     },
     "output_type": "display_data"
    }
   ],
   "source": [
    "\n",
    "\n",
    "labels = ['S1', 'S2', 'S3', 'S4', 'S5', 'S6', 'S7']\n",
    "#resD1\n",
    "#resD2\n",
    "#resD3\n",
    "#resD4\n",
    "\n",
    "w1 = 0.7\n",
    "w2 = 1e-6\n",
    "w3 = 0.3\n",
    "w4 = 1e-5\n",
    "width = 0.55       # the width of the bars: can also be len(x) sequence\n",
    "\n",
    "fig, ax = plt.subplots()\n",
    "\n",
    "ax.bar(labels, np.array(resD1)*w1, width, label='D1')\n",
    "\n",
    "ax.bar(labels, np.array(resD2)*w2, width, bottom= np.array(resD1)*w1,\n",
    "       label='D2')\n",
    "\n",
    "ax.bar(labels, np.array(resD3)*w3, width, bottom= np.array(resD1)*w3,\n",
    "       label='D3')\n",
    "\n",
    "ax.bar(labels, np.array(resD4)*w4, width, bottom= np.array(resD3)*w2,\n",
    "       label='D4')\n",
    "\n",
    "ax.set_ylabel('Scores')\n",
    "ax.set_title('Objectice Function Results')\n",
    "ax.legend()\n",
    "\n",
    "plt.show()"
   ]
  },
  {
   "cell_type": "code",
   "execution_count": 52,
   "metadata": {},
   "outputs": [
    {
     "data": {
      "image/png": "[encoded data removed]",
      "text/plain": [
       "<Figure size 432x288 with 1 Axes>"
      ]
     },
     "metadata": {
      "needs_background": "light"
     },
     "output_type": "display_data"
    }
   ],
   "source": [
    "labels = ['S1', 'S2', 'S3', 'S4', 'S5', 'S6', 'S7']\n",
    "\n",
    "w1 = 0.06\n",
    "w2 = 0.0002\n",
    "w3 = 1 - w1 - w2 - w4\n",
    "w4 = 0.9\n",
    "width = 0.55       \n",
    "\n",
    "fig, ax = plt.subplots()\n",
    "L1 = np.array(resD1)*w1\n",
    "L2 = np.array(resD2)*w2\n",
    "L3 = np.array(resD3)*w3\n",
    "L4 = np.array(resD4)*w4\n",
    "\n",
    "ax.bar(labels, L1, width, label='D1')\n",
    "ax.bar(labels, L2, width, bottom=L1 , label='D2')\n",
    "ax.bar(labels, L3, width, bottom=L1+L2, label='D3')\n",
    "ax.bar(labels, L4, width, bottom=L1+L2+L3, label='D4')\n",
    "\n",
    "ax.set_ylabel('Loss')\n",
    "ax.set_title('Objectice Function Results')\n",
    "ax.legend()\n",
    "\n",
    "plt.show()"
   ]
  },
  {
   "cell_type": "code",
   "execution_count": 53,
   "metadata": {},
   "outputs": [
    {
     "data": {
      "image/png": "[encoded data removed]",
      "text/plain": [
       "<Figure size 1440x864 with 1 Axes>"
      ]
     },
     "metadata": {
      "needs_background": "light"
     },
     "output_type": "display_data"
    }
   ],
   "source": [
    "plot(np.vstack((exp_stress,sigma_hats)), np.tile(strainobj,(8,1)), labels)\n"
   ]
  },
  {
   "cell_type": "code",
   "execution_count": null,
   "metadata": {},
   "outputs": [],
   "source": [
    "\n",
    "\n",
    "    \n"
   ]
  },
  {
   "cell_type": "code",
   "execution_count": 17,
   "metadata": {},
   "outputs": [
    {
     "data": {
      "text/html": [
       "<div>\n",
       "<style scoped>\n",
       "    .dataframe tbody tr th:only-of-type {\n",
       "        vertical-align: middle;\n",
       "    }\n",
       "\n",
       "    .dataframe tbody tr th {\n",
       "        vertical-align: top;\n",
       "    }\n",
       "\n",
       "    .dataframe thead th {\n",
       "        text-align: right;\n",
       "    }\n",
       "</style>\n",
       "<table border=\"1\" class=\"dataframe\">\n",
       "  <thead>\n",
       "    <tr style=\"text-align: right;\">\n",
       "      <th></th>\n",
       "      <th>True stress, MPa</th>\n",
       "      <th>True plastic strain, -</th>\n",
       "      <th>Unnamed: 2</th>\n",
       "      <th>True stress, MPa.1</th>\n",
       "      <th>True strain, -</th>\n",
       "      <th>True plastic strain, -.1</th>\n",
       "      <th>Unnamed: 6</th>\n",
       "      <th>True stress, MPa.2</th>\n",
       "      <th>True strain, -.1</th>\n",
       "      <th>True plastic strain, -.2</th>\n",
       "      <th>...</th>\n",
       "      <th>Unnamed: 68</th>\n",
       "      <th>Unnamed: 69</th>\n",
       "      <th>Unnamed: 70</th>\n",
       "      <th>Unnamed: 71</th>\n",
       "      <th>Unnamed: 72</th>\n",
       "      <th>Unnamed: 73</th>\n",
       "      <th>Unnamed: 74</th>\n",
       "      <th>Unnamed: 75</th>\n",
       "      <th>Unnamed: 76</th>\n",
       "      <th>Unnamed: 77</th>\n",
       "    </tr>\n",
       "  </thead>\n",
       "  <tbody>\n",
       "    <tr>\n",
       "      <th>0</th>\n",
       "      <td>5.489876</td>\n",
       "      <td>NaN</td>\n",
       "      <td>NaN</td>\n",
       "      <td>1.150000e-12</td>\n",
       "      <td>0.000000</td>\n",
       "      <td>-2.550000e-18</td>\n",
       "      <td>NaN</td>\n",
       "      <td>1.150000e-12</td>\n",
       "      <td>0.000000</td>\n",
       "      <td>-2.550000e-18</td>\n",
       "      <td>...</td>\n",
       "      <td>NaN</td>\n",
       "      <td>NaN</td>\n",
       "      <td>NaN</td>\n",
       "      <td>NaN</td>\n",
       "      <td>NaN</td>\n",
       "      <td>NaN</td>\n",
       "      <td>NaN</td>\n",
       "      <td>NaN</td>\n",
       "      <td>NaN</td>\n",
       "      <td>NaN</td>\n",
       "    </tr>\n",
       "    <tr>\n",
       "      <th>1</th>\n",
       "      <td>6.705707</td>\n",
       "      <td>-0.000042</td>\n",
       "      <td>NaN</td>\n",
       "      <td>1.070409e+02</td>\n",
       "      <td>0.000238</td>\n",
       "      <td>4.480000e-07</td>\n",
       "      <td>NaN</td>\n",
       "      <td>5.778611e+01</td>\n",
       "      <td>0.000129</td>\n",
       "      <td>3.170000e-07</td>\n",
       "      <td>...</td>\n",
       "      <td>NaN</td>\n",
       "      <td>NaN</td>\n",
       "      <td>NaN</td>\n",
       "      <td>NaN</td>\n",
       "      <td>NaN</td>\n",
       "      <td>NaN</td>\n",
       "      <td>NaN</td>\n",
       "      <td>NaN</td>\n",
       "      <td>NaN</td>\n",
       "      <td>NaN</td>\n",
       "    </tr>\n",
       "    <tr>\n",
       "      <th>2</th>\n",
       "      <td>8.092295</td>\n",
       "      <td>-0.000059</td>\n",
       "      <td>NaN</td>\n",
       "      <td>2.142102e+02</td>\n",
       "      <td>0.000476</td>\n",
       "      <td>5.850000e-07</td>\n",
       "      <td>NaN</td>\n",
       "      <td>1.156097e+02</td>\n",
       "      <td>0.000257</td>\n",
       "      <td>5.440000e-07</td>\n",
       "      <td>...</td>\n",
       "      <td>NaN</td>\n",
       "      <td>NaN</td>\n",
       "      <td>NaN</td>\n",
       "      <td>NaN</td>\n",
       "      <td>NaN</td>\n",
       "      <td>NaN</td>\n",
       "      <td>NaN</td>\n",
       "      <td>NaN</td>\n",
       "      <td>NaN</td>\n",
       "      <td>NaN</td>\n",
       "    </tr>\n",
       "    <tr>\n",
       "      <th>3</th>\n",
       "      <td>9.751441</td>\n",
       "      <td>-0.000045</td>\n",
       "      <td>NaN</td>\n",
       "      <td>3.215083e+02</td>\n",
       "      <td>0.000715</td>\n",
       "      <td>4.110000e-07</td>\n",
       "      <td>NaN</td>\n",
       "      <td>1.734707e+02</td>\n",
       "      <td>0.000386</td>\n",
       "      <td>6.790000e-07</td>\n",
       "      <td>...</td>\n",
       "      <td>NaN</td>\n",
       "      <td>NaN</td>\n",
       "      <td>NaN</td>\n",
       "      <td>NaN</td>\n",
       "      <td>NaN</td>\n",
       "      <td>NaN</td>\n",
       "      <td>NaN</td>\n",
       "      <td>NaN</td>\n",
       "      <td>NaN</td>\n",
       "      <td>NaN</td>\n",
       "    </tr>\n",
       "    <tr>\n",
       "      <th>4</th>\n",
       "      <td>11.699985</td>\n",
       "      <td>-0.000079</td>\n",
       "      <td>NaN</td>\n",
       "      <td>4.289348e+02</td>\n",
       "      <td>0.000953</td>\n",
       "      <td>-7.460000e-08</td>\n",
       "      <td>NaN</td>\n",
       "      <td>2.313693e+02</td>\n",
       "      <td>0.000515</td>\n",
       "      <td>7.240000e-07</td>\n",
       "      <td>...</td>\n",
       "      <td>NaN</td>\n",
       "      <td>NaN</td>\n",
       "      <td>NaN</td>\n",
       "      <td>NaN</td>\n",
       "      <td>NaN</td>\n",
       "      <td>NaN</td>\n",
       "      <td>NaN</td>\n",
       "      <td>NaN</td>\n",
       "      <td>NaN</td>\n",
       "      <td>NaN</td>\n",
       "    </tr>\n",
       "    <tr>\n",
       "      <th>...</th>\n",
       "      <td>...</td>\n",
       "      <td>...</td>\n",
       "      <td>...</td>\n",
       "      <td>...</td>\n",
       "      <td>...</td>\n",
       "      <td>...</td>\n",
       "      <td>...</td>\n",
       "      <td>...</td>\n",
       "      <td>...</td>\n",
       "      <td>...</td>\n",
       "      <td>...</td>\n",
       "      <td>...</td>\n",
       "      <td>...</td>\n",
       "      <td>...</td>\n",
       "      <td>...</td>\n",
       "      <td>...</td>\n",
       "      <td>...</td>\n",
       "      <td>...</td>\n",
       "      <td>...</td>\n",
       "      <td>...</td>\n",
       "      <td>...</td>\n",
       "    </tr>\n",
       "    <tr>\n",
       "      <th>398</th>\n",
       "      <td>1304.650815</td>\n",
       "      <td>0.057410</td>\n",
       "      <td>NaN</td>\n",
       "      <td>NaN</td>\n",
       "      <td>NaN</td>\n",
       "      <td>NaN</td>\n",
       "      <td>NaN</td>\n",
       "      <td>NaN</td>\n",
       "      <td>NaN</td>\n",
       "      <td>NaN</td>\n",
       "      <td>...</td>\n",
       "      <td>NaN</td>\n",
       "      <td>NaN</td>\n",
       "      <td>NaN</td>\n",
       "      <td>NaN</td>\n",
       "      <td>NaN</td>\n",
       "      <td>NaN</td>\n",
       "      <td>NaN</td>\n",
       "      <td>NaN</td>\n",
       "      <td>NaN</td>\n",
       "      <td>NaN</td>\n",
       "    </tr>\n",
       "    <tr>\n",
       "      <th>399</th>\n",
       "      <td>1304.731425</td>\n",
       "      <td>0.057854</td>\n",
       "      <td>NaN</td>\n",
       "      <td>NaN</td>\n",
       "      <td>NaN</td>\n",
       "      <td>NaN</td>\n",
       "      <td>NaN</td>\n",
       "      <td>NaN</td>\n",
       "      <td>NaN</td>\n",
       "      <td>NaN</td>\n",
       "      <td>...</td>\n",
       "      <td>NaN</td>\n",
       "      <td>NaN</td>\n",
       "      <td>NaN</td>\n",
       "      <td>NaN</td>\n",
       "      <td>NaN</td>\n",
       "      <td>NaN</td>\n",
       "      <td>NaN</td>\n",
       "      <td>NaN</td>\n",
       "      <td>NaN</td>\n",
       "      <td>NaN</td>\n",
       "    </tr>\n",
       "    <tr>\n",
       "      <th>400</th>\n",
       "      <td>1304.766763</td>\n",
       "      <td>0.058296</td>\n",
       "      <td>NaN</td>\n",
       "      <td>NaN</td>\n",
       "      <td>NaN</td>\n",
       "      <td>NaN</td>\n",
       "      <td>NaN</td>\n",
       "      <td>NaN</td>\n",
       "      <td>NaN</td>\n",
       "      <td>NaN</td>\n",
       "      <td>...</td>\n",
       "      <td>NaN</td>\n",
       "      <td>NaN</td>\n",
       "      <td>NaN</td>\n",
       "      <td>NaN</td>\n",
       "      <td>NaN</td>\n",
       "      <td>NaN</td>\n",
       "      <td>NaN</td>\n",
       "      <td>NaN</td>\n",
       "      <td>NaN</td>\n",
       "      <td>NaN</td>\n",
       "    </tr>\n",
       "    <tr>\n",
       "      <th>401</th>\n",
       "      <td>1304.745454</td>\n",
       "      <td>0.058736</td>\n",
       "      <td>NaN</td>\n",
       "      <td>NaN</td>\n",
       "      <td>NaN</td>\n",
       "      <td>NaN</td>\n",
       "      <td>NaN</td>\n",
       "      <td>NaN</td>\n",
       "      <td>NaN</td>\n",
       "      <td>NaN</td>\n",
       "      <td>...</td>\n",
       "      <td>NaN</td>\n",
       "      <td>NaN</td>\n",
       "      <td>NaN</td>\n",
       "      <td>NaN</td>\n",
       "      <td>NaN</td>\n",
       "      <td>NaN</td>\n",
       "      <td>NaN</td>\n",
       "      <td>NaN</td>\n",
       "      <td>NaN</td>\n",
       "      <td>NaN</td>\n",
       "    </tr>\n",
       "    <tr>\n",
       "      <th>402</th>\n",
       "      <td>1304.665820</td>\n",
       "      <td>0.059194</td>\n",
       "      <td>NaN</td>\n",
       "      <td>NaN</td>\n",
       "      <td>NaN</td>\n",
       "      <td>NaN</td>\n",
       "      <td>NaN</td>\n",
       "      <td>NaN</td>\n",
       "      <td>NaN</td>\n",
       "      <td>NaN</td>\n",
       "      <td>...</td>\n",
       "      <td>NaN</td>\n",
       "      <td>NaN</td>\n",
       "      <td>NaN</td>\n",
       "      <td>NaN</td>\n",
       "      <td>NaN</td>\n",
       "      <td>NaN</td>\n",
       "      <td>NaN</td>\n",
       "      <td>NaN</td>\n",
       "      <td>NaN</td>\n",
       "      <td>NaN</td>\n",
       "    </tr>\n",
       "  </tbody>\n",
       "</table>\n",
       "<p>403 rows × 78 columns</p>\n",
       "</div>"
      ],
      "text/plain": [
       "     True stress, MPa  True plastic strain, -  Unnamed: 2  True stress, MPa.1  \\\n",
       "0            5.489876                     NaN         NaN        1.150000e-12   \n",
       "1            6.705707               -0.000042         NaN        1.070409e+02   \n",
       "2            8.092295               -0.000059         NaN        2.142102e+02   \n",
       "3            9.751441               -0.000045         NaN        3.215083e+02   \n",
       "4           11.699985               -0.000079         NaN        4.289348e+02   \n",
       "..                ...                     ...         ...                 ...   \n",
       "398       1304.650815                0.057410         NaN                 NaN   \n",
       "399       1304.731425                0.057854         NaN                 NaN   \n",
       "400       1304.766763                0.058296         NaN                 NaN   \n",
       "401       1304.745454                0.058736         NaN                 NaN   \n",
       "402       1304.665820                0.059194         NaN                 NaN   \n",
       "\n",
       "     True strain, -  True plastic strain, -.1  Unnamed: 6  True stress, MPa.2  \\\n",
       "0          0.000000             -2.550000e-18         NaN        1.150000e-12   \n",
       "1          0.000238              4.480000e-07         NaN        5.778611e+01   \n",
       "2          0.000476              5.850000e-07         NaN        1.156097e+02   \n",
       "3          0.000715              4.110000e-07         NaN        1.734707e+02   \n",
       "4          0.000953             -7.460000e-08         NaN        2.313693e+02   \n",
       "..              ...                       ...         ...                 ...   \n",
       "398             NaN                       NaN         NaN                 NaN   \n",
       "399             NaN                       NaN         NaN                 NaN   \n",
       "400             NaN                       NaN         NaN                 NaN   \n",
       "401             NaN                       NaN         NaN                 NaN   \n",
       "402             NaN                       NaN         NaN                 NaN   \n",
       "\n",
       "     True strain, -.1  True plastic strain, -.2  ...  Unnamed: 68  \\\n",
       "0            0.000000             -2.550000e-18  ...          NaN   \n",
       "1            0.000129              3.170000e-07  ...          NaN   \n",
       "2            0.000257              5.440000e-07  ...          NaN   \n",
       "3            0.000386              6.790000e-07  ...          NaN   \n",
       "4            0.000515              7.240000e-07  ...          NaN   \n",
       "..                ...                       ...  ...          ...   \n",
       "398               NaN                       NaN  ...          NaN   \n",
       "399               NaN                       NaN  ...          NaN   \n",
       "400               NaN                       NaN  ...          NaN   \n",
       "401               NaN                       NaN  ...          NaN   \n",
       "402               NaN                       NaN  ...          NaN   \n",
       "\n",
       "     Unnamed: 69  Unnamed: 70  Unnamed: 71  Unnamed: 72  Unnamed: 73  \\\n",
       "0            NaN          NaN          NaN          NaN          NaN   \n",
       "1            NaN          NaN          NaN          NaN          NaN   \n",
       "2            NaN          NaN          NaN          NaN          NaN   \n",
       "3            NaN          NaN          NaN          NaN          NaN   \n",
       "4            NaN          NaN          NaN          NaN          NaN   \n",
       "..           ...          ...          ...          ...          ...   \n",
       "398          NaN          NaN          NaN          NaN          NaN   \n",
       "399          NaN          NaN          NaN          NaN          NaN   \n",
       "400          NaN          NaN          NaN          NaN          NaN   \n",
       "401          NaN          NaN          NaN          NaN          NaN   \n",
       "402          NaN          NaN          NaN          NaN          NaN   \n",
       "\n",
       "     Unnamed: 74  Unnamed: 75  Unnamed: 76  Unnamed: 77  \n",
       "0            NaN          NaN          NaN          NaN  \n",
       "1            NaN          NaN          NaN          NaN  \n",
       "2            NaN          NaN          NaN          NaN  \n",
       "3            NaN          NaN          NaN          NaN  \n",
       "4            NaN          NaN          NaN          NaN  \n",
       "..           ...          ...          ...          ...  \n",
       "398          NaN          NaN          NaN          NaN  \n",
       "399          NaN          NaN          NaN          NaN  \n",
       "400          NaN          NaN          NaN          NaN  \n",
       "401          NaN          NaN          NaN          NaN  \n",
       "402          NaN          NaN          NaN          NaN  \n",
       "\n",
       "[403 rows x 78 columns]"
      ]
     },
     "execution_count": 17,
     "metadata": {},
     "output_type": "execute_result"
    }
   ],
   "source": [
    "df1 = pd.read_csv(\"case1.csv\", skiprows = 2)\n",
    "\n",
    "df1"
   ]
  },
  {
   "cell_type": "code",
   "execution_count": 18,
   "metadata": {},
   "outputs": [],
   "source": [
    "truestrainobj1 = df1['True strain, -']\n",
    "truestrainobj2 = df1['True strain, -.1']\n",
    "truestrainobj3 = df1['True strain, -.2']\n",
    "truestrainobj4 = df1['True strain, -.3']\n",
    "truestrainobj5 = df1['True strain, -.4']\n",
    "truestrainobj6 = df1['True strain, -.5']\n",
    "truestrainobj7 = df1['True strain, -.6']\n",
    "\n",
    "Exp_stress0 = df1['True stress, MPa']\n",
    "Exp_stress1 = df1['True stress, MPa.1']\n",
    "Exp_stress2 = df1['True stress, MPa.2']\n",
    "Exp_stress3 = df1['True stress, MPa.3']\n",
    "Exp_stress4 = df1['True stress, MPa.4']\n",
    "Exp_stress5 = df1['True stress, MPa.5']\n",
    "Exp_stress6 = df1['True stress, MPa.6']\n",
    "Exp_stress7 = df1['True stress, MPa.7']\n",
    "\n",
    "strainobj0 = df1['True plastic strain, -']\n",
    "strainobj1 = df1['True plastic strain, -.1']\n",
    "strainobj2 = df1['True plastic strain, -.2']\n",
    "strainobj3 = df1['True plastic strain, -.3']\n",
    "strainobj4 = df1['True plastic strain, -.4']\n",
    "strainobj5 = df1['True plastic strain, -.5']\n",
    "strainobj6 = df1['True plastic strain, -.6']\n",
    "strainobj7 = df1['True plastic strain, -.7']\n",
    "\n",
    "#truestrains_case1 = [truestrainobj0, truestrainobj1, truestrainobj2, truestrainobj3, truestrainobj4, truestrainobj5, truestrainobj6]\n",
    "#sigma_hats_case1 = [Exp_stress0, Exp_stress1, Exp_stress2, Exp_stress3, Exp_stress4, Exp_stress5, Exp_stress6, Exp_stress7]\n",
    "#strainobjs_case1 = [strainobj1, strainobj2, strainobj3, strainobj4, strainobj5, strainobj6, strainobj7]"
   ]
  },
  {
   "cell_type": "code",
   "execution_count": 19,
   "metadata": {},
   "outputs": [
    {
     "ename": "TypeError",
     "evalue": "not enough arguments for format string",
     "output_type": "error",
     "traceback": [
      "\u001b[0;31m---------------------------------------------------------------------------\u001b[0m",
      "\u001b[0;31mTypeError\u001b[0m                                 Traceback (most recent call last)",
      "\u001b[0;32m<ipython-input-19-5f4d2dfce4b4>\u001b[0m in \u001b[0;36m<module>\u001b[0;34m\u001b[0m\n\u001b[1;32m      5\u001b[0m \u001b[0mstrain_obj\u001b[0m \u001b[0;34m=\u001b[0m \u001b[0;34m{\u001b[0m\u001b[0;34m}\u001b[0m\u001b[0;34m\u001b[0m\u001b[0;34m\u001b[0m\u001b[0m\n\u001b[1;32m      6\u001b[0m \u001b[0;32mfor\u001b[0m \u001b[0mi\u001b[0m \u001b[0;32min\u001b[0m \u001b[0mvr\u001b[0m\u001b[0;34m:\u001b[0m\u001b[0;34m\u001b[0m\u001b[0;34m\u001b[0m\u001b[0m\n\u001b[0;32m----> 7\u001b[0;31m     \u001b[0msim_stress_\u001b[0m\u001b[0;34m[\u001b[0m\u001b[0mi\u001b[0m\u001b[0;34m]\u001b[0m \u001b[0;34m,\u001b[0m \u001b[0mtrue_strain_\u001b[0m\u001b[0;34m[\u001b[0m\u001b[0mi\u001b[0m\u001b[0;34m]\u001b[0m\u001b[0;34m,\u001b[0m \u001b[0mstrain_obj\u001b[0m\u001b[0;34m[\u001b[0m\u001b[0mi\u001b[0m\u001b[0;34m]\u001b[0m  \u001b[0;34m=\u001b[0m \u001b[0melastic\u001b[0m\u001b[0;34m(\u001b[0m\u001b[0;34mf\"Exp_stress{i}\"\u001b[0m \u001b[0;34m,\u001b[0m \u001b[0;34mf\"truestrainobj{i}\"\u001b[0m\u001b[0;34m,\u001b[0m \u001b[0;34mf\"strainobj{i}\"\u001b[0m \u001b[0;34m,\u001b[0m \u001b[0mexec\u001b[0m\u001b[0;34m(\u001b[0m\u001b[0;34m\"%s = %d\"\u001b[0m \u001b[0;34m%\u001b[0m \u001b[0;34m(\u001b[0m\u001b[0mstr\u001b[0m\u001b[0;34m)\u001b[0m\u001b[0;34m)\u001b[0m\u001b[0;34m)\u001b[0m\u001b[0;34m\u001b[0m\u001b[0;34m\u001b[0m\u001b[0m\n\u001b[0m",
      "\u001b[0;31mTypeError\u001b[0m: not enough arguments for format string"
     ]
    }
   ],
   "source": [
    "# Need to use preprocess\n",
    "vr = [1, 2, 3, 4, 5, 6, 7]\n",
    "sim_stress_ = {}\n",
    "true_strain = {}\n",
    "strain_obj = {}\n",
    "for i in vr:\n",
    "    sim_stress_[i] , true_strain_[i], strain_obj[i]  = elastic(f\"Exp_stress{i}\" , f\"truestrainobj{i}\", f\"strainobj{i}\" , exec(\"%s = %d\" % (str)))"
   ]
  },
  {
   "cell_type": "code",
   "execution_count": null,
   "metadata": {},
   "outputs": [],
   "source": [
    "sim_stress_1, true_strain_1, strain_obj_1 = elastic(Exp_stress1, truestrainobj1, strainobj1 )\n",
    "sim_stress_2, true_strain_2, strain_obj_2 = elastic(Exp_stress2, truestrainobj2, strainobj2 )\n",
    "sim_stress_3, true_strain_3, strain_obj_3 = elastic(Exp_stress3, truestrainobj3, strainobj3 )\n",
    "sim_stress_4, true_strain_4, strain_obj_4 = elastic(Exp_stress4, truestrainobj4, strainobj4 )\n",
    "sim_stress_5, true_strain_5, strain_obj_5 = elastic(Exp_stress5, truestrainobj5, strainobj5 )\n",
    "sim_stress_6, true_strain_6, strain_obj_6 = elastic(Exp_stress6, truestrainobj6, strainobj6 )\n",
    "sim_stress_7, true_strain_7, strain_obj_7 = elastic(Exp_stress7, truestrainobj7, strainobj7 )"
   ]
  },
  {
   "cell_type": "code",
   "execution_count": null,
   "metadata": {},
   "outputs": [],
   "source": [
    "exp_stress, sim_stresses, strainobj, labels = preprocess(df1)"
   ]
  },
  {
   "cell_type": "code",
   "execution_count": null,
   "metadata": {},
   "outputs": [],
   "source": [
    "sigma_hats_case = sim_stresses"
   ]
  },
  {
   "cell_type": "code",
   "execution_count": null,
   "metadata": {},
   "outputs": [],
   "source": [
    "df1"
   ]
  },
  {
   "cell_type": "code",
   "execution_count": null,
   "metadata": {},
   "outputs": [],
   "source": [
    "# Testing Case1 on D1\n",
    "\n",
    "# Testing on every index of sigma_hats\n",
    "resD1 = []\n",
    "for n in sigma_hats_case:\n",
    "    resD1 += [D1(material1, n)]\n",
    "resD1\n",
    "    \n",
    "fig = plt.figure()\n",
    "ax = fig.add_axes([0,0,1,1])\n",
    "xs = ['1', '2', '3', '4', '5', '6', '7']\n",
    "ys = resD1\n",
    "ax.bar(xs,ys)\n",
    "plt.show()"
   ]
  },
  {
   "cell_type": "code",
   "execution_count": null,
   "metadata": {},
   "outputs": [],
   "source": [
    "# Testing Case1 on D2\n",
    "resD2 = []\n",
    "for n in sigma_hats_case:\n",
    "    resD2 += [D2(material1, n)]\n",
    "resD2\n",
    "    \n",
    "fig = plt.figure()\n",
    "ax = fig.add_axes([0,0,1,1])\n",
    "xs = ['1', '2', '3', '4', '5', '6', '7']\n",
    "ys = resD2\n",
    "ax.bar(xs,ys)\n",
    "plt.show()\n"
   ]
  },
  {
   "cell_type": "code",
   "execution_count": null,
   "metadata": {},
   "outputs": [],
   "source": [
    "# Testing Case1 on D3\n",
    "resD3 = []\n",
    "for n in sigma_hats_case:\n",
    "    resD3 += [D3(material1, n)]\n",
    "resD3\n",
    "\n",
    "fig = plt.figure()\n",
    "ax = fig.add_axes([0,0,1,1])\n",
    "xs = ['1', '2', '3', '4', '5', '6', '7']\n",
    "ys = resD3\n",
    "ax.bar(xs,ys)\n",
    "plt.show()"
   ]
  },
  {
   "cell_type": "code",
   "execution_count": null,
   "metadata": {},
   "outputs": [],
   "source": [
    "# Testing Case1 on D4\n",
    "resD4 = []\n",
    "for n in sigma_hats_case:\n",
    "    resD4 += [D4(material1, n)]\n",
    "resD4\n",
    "\n",
    "fig = plt.figure()\n",
    "ax = fig.add_axes([0,0,1,1])\n",
    "xs = ['1', '2', '3', '4', '5', '6', '7']\n",
    "ys = resD4\n",
    "ax.bar(xs,ys)\n",
    "plt.show()"
   ]
  },
  {
   "cell_type": "code",
   "execution_count": null,
   "metadata": {},
   "outputs": [],
   "source": [
    "labels = ['S1', 'S2', 'S3', 'S4', 'S5', 'S6', 'S7']\n",
    "\n",
    "w1 = 0.06\n",
    "w2 = 0.0002\n",
    "w3 = 1 - w1 - w2 - w4\n",
    "w4 = 0.9\n",
    "width = 0.55       # the width of the bars: can also be len(x) sequence\n",
    "\n",
    "fig, ax = plt.subplots()\n",
    "L1 = np.array(resD1)*w1\n",
    "L2 = np.array(resD2)*w2\n",
    "L3 = np.array(resD3)*w3\n",
    "L4 = np.array(resD4)*w4\n",
    "\n",
    "ax.bar(labels, L1, width, label='D1')\n",
    "ax.bar(labels, L2, width, bottom=L1 , label='D2')\n",
    "ax.bar(labels, L3, width, bottom=L1+L2, label='D3')\n",
    "ax.bar(labels, L4, width, bottom=L1+L2+L3, label='D4')\n",
    "\n",
    "ax.set_ylabel('Loss')\n",
    "ax.set_title('Objectice Function Results')\n",
    "ax.legend()\n",
    "\n",
    "plt.show()"
   ]
  },
  {
   "cell_type": "code",
   "execution_count": null,
   "metadata": {},
   "outputs": [],
   "source": []
  }
 ],
 "metadata": {
  "kernelspec": {
   "display_name": "Python 3",
   "language": "python",
   "name": "python3"
  },
  "language_info": {
   "codemirror_mode": {
    "name": "ipython",
    "version": 3
   },
   "file_extension": ".py",
   "mimetype": "text/x-python",
   "name": "python",
   "nbconvert_exporter": "python",
   "pygments_lexer": "ipython3",
   "version": "3.8.8"
  }
 },
 "nbformat": 4,
 "nbformat_minor": 4
}
