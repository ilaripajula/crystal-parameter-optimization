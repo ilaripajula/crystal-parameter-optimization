{
 "cells": [
  {
   "cell_type": "markdown",
   "id": "71df37a5-38b0-4e36-bbb0-0e47c8834a89",
   "metadata": {},
   "source": [
    "# Optimization Pipeline"
   ]
  },
  {
   "cell_type": "code",
   "execution_count": 103,
   "id": "36557cd3-19c3-4745-a11a-6bcceeb732ef",
   "metadata": {},
   "outputs": [],
   "source": [
    "# External libraries\n",
    "import pandas as pd\n",
    "import numpy as np\n",
    "import pygad\n",
    "import matplotlib.pyplot as plt\n",
    "from sklearn.neural_network import MLPRegressor\n",
    "from sklearn.model_selection import train_test_split\n",
    "from sklearn.metrics import mean_squared_error\n",
    "from scipy.interpolate import interp1d\n",
    "import umap\n",
    "from matplotlib import cm\n",
    "\n",
    "# Our classes\n",
    "from optimization_pipeline.SIM import *\n",
    "from optimization_pipeline.preprocessing import *"
   ]
  },
  {
   "cell_type": "code",
   "execution_count": 107,
   "id": "9ea3c311-3fd0-45a0-9b89-ab940418f66e",
   "metadata": {},
   "outputs": [
    {
     "data": {
      "text/plain": [
       "(108, 4)"
      ]
     },
     "execution_count": 107,
     "metadata": {},
     "output_type": "execute_result"
    }
   ],
   "source": [
    "tau_step = 10\n",
    "tau = (100,120+tau_step)\n",
    "taucs_step = 10\n",
    "taucs = (220,250+taucs_step)\n",
    "h0_step = 100\n",
    "h0 = (600,800+h0_step)\n",
    "alpha_step = 1\n",
    "alpha = (3,5+alpha_step)\n",
    "\n",
    "opt_grid = np.mgrid[tau[0]:tau[1]:tau_step,\n",
    "                    taucs[0]:taucs[1]:taucs_step,\n",
    "                    h0[0]:h0[1]:h0_step,\n",
    "                    alpha[0]:alpha[1]:alpha_step]\n",
    "np.vstack([xi.ravel() for xi in opt_grid]).T.shape"
   ]
  },
  {
   "cell_type": "code",
   "execution_count": 73,
   "id": "b1922a3a-ffff-4b77-afad-2bcd648dd50c",
   "metadata": {},
   "outputs": [
    {
     "name": "stdout",
     "output_type": "stream",
     "text": [
      "(1, 2)\n"
     ]
    },
    {
     "data": {
      "text/plain": [
       "2.5"
      ]
     },
     "execution_count": 73,
     "metadata": {},
     "output_type": "execute_result"
    }
   ],
   "source": [
    "prune = [True, True, False]\n",
    "a = np.array([1,2,3]).reshape(1,3)\n",
    "a1 = np.array([2, 4]).reshape(1,2)\n",
    "print(a1.shape)\n",
    "ap = a[:,prune]\n",
    "mean_squared_error(ap,a1)"
   ]
  },
  {
   "cell_type": "code",
   "execution_count": 113,
   "id": "21fd46be-cab5-458e-89d1-88ac2e39c030",
   "metadata": {},
   "outputs": [
    {
     "data": {
      "text/plain": [
       "[(110, 239, 758, 3),\n",
       " (108, 226, 770, 2),\n",
       " (114, 220, 697, 2),\n",
       " (112, 247, 632, 3),\n",
       " (103, 235, 685, 2)]"
      ]
     },
     "execution_count": 113,
     "metadata": {},
     "output_type": "execute_result"
    }
   ],
   "source": [
    "points = []\n",
    "for _ in range(5):\n",
    "    tau = np.random.randint(low=100, high=120)\n",
    "    taucs = np.random.randint(low=220, high=250)\n",
    "    h0 = np.random.randint(low=600, high=800)\n",
    "    alpha = np.random.randint(low=2, high=5)\n",
    "    points.append((tau, taucs, h0,alpha))\n",
    "points"
   ]
  },
  {
   "cell_type": "code",
   "execution_count": null,
   "id": "b618192a-b707-491d-bc2b-9aece72e410d",
   "metadata": {},
   "outputs": [],
   "source": [
    "points = []\n",
    "point = (0,0,0,0)\n",
    "for p in range(4):\n",
    "points"
   ]
  },
  {
   "cell_type": "code",
   "execution_count": 181,
   "id": "3f2ba896-4ad5-472c-ba76-59596dc7b994",
   "metadata": {},
   "outputs": [
    {
     "name": "stderr",
     "output_type": "stream",
     "text": [
      "<ipython-input-181-f3795d8fa7ae>:2: FutureWarning: The default value of regex will change from True to False in a future version. In addition, single character regular expressions will*not* be treated as literal strings when regex=True.\n",
      "  strains = flow.iloc[4,:].str.replace('[', '').replace(']', '').replace('\\n', '').str.split(' ', expand=True).astype(float)\n"
     ]
    },
    {
     "ename": "ValueError",
     "evalue": "could not convert string to float: ''",
     "output_type": "error",
     "traceback": [
      "\u001b[1;31m---------------------------------------------------------------------------\u001b[0m",
      "\u001b[1;31mValueError\u001b[0m                                Traceback (most recent call last)",
      "\u001b[1;32m<ipython-input-181-f3795d8fa7ae>\u001b[0m in \u001b[0;36m<module>\u001b[1;34m\u001b[0m\n\u001b[0;32m      1\u001b[0m \u001b[0mflow\u001b[0m \u001b[1;33m=\u001b[0m \u001b[0mpd\u001b[0m\u001b[1;33m.\u001b[0m\u001b[0mread_csv\u001b[0m\u001b[1;33m(\u001b[0m\u001b[1;34m'./flowcurves/simulations.csv'\u001b[0m\u001b[1;33m,\u001b[0m \u001b[0mheader\u001b[0m\u001b[1;33m=\u001b[0m\u001b[1;32mNone\u001b[0m\u001b[1;33m)\u001b[0m\u001b[1;33m\u001b[0m\u001b[1;33m\u001b[0m\u001b[0m\n\u001b[1;32m----> 2\u001b[1;33m \u001b[0mstrains\u001b[0m \u001b[1;33m=\u001b[0m \u001b[0mflow\u001b[0m\u001b[1;33m.\u001b[0m\u001b[0miloc\u001b[0m\u001b[1;33m[\u001b[0m\u001b[1;36m4\u001b[0m\u001b[1;33m,\u001b[0m\u001b[1;33m:\u001b[0m\u001b[1;33m]\u001b[0m\u001b[1;33m.\u001b[0m\u001b[0mstr\u001b[0m\u001b[1;33m.\u001b[0m\u001b[0mreplace\u001b[0m\u001b[1;33m(\u001b[0m\u001b[1;34m'['\u001b[0m\u001b[1;33m,\u001b[0m \u001b[1;34m''\u001b[0m\u001b[1;33m)\u001b[0m\u001b[1;33m.\u001b[0m\u001b[0mreplace\u001b[0m\u001b[1;33m(\u001b[0m\u001b[1;34m']'\u001b[0m\u001b[1;33m,\u001b[0m \u001b[1;34m''\u001b[0m\u001b[1;33m)\u001b[0m\u001b[1;33m.\u001b[0m\u001b[0mreplace\u001b[0m\u001b[1;33m(\u001b[0m\u001b[1;34m'\\n'\u001b[0m\u001b[1;33m,\u001b[0m \u001b[1;34m''\u001b[0m\u001b[1;33m)\u001b[0m\u001b[1;33m.\u001b[0m\u001b[0mstr\u001b[0m\u001b[1;33m.\u001b[0m\u001b[0msplit\u001b[0m\u001b[1;33m(\u001b[0m\u001b[1;34m' '\u001b[0m\u001b[1;33m,\u001b[0m \u001b[0mexpand\u001b[0m\u001b[1;33m=\u001b[0m\u001b[1;32mTrue\u001b[0m\u001b[1;33m)\u001b[0m\u001b[1;33m.\u001b[0m\u001b[0mastype\u001b[0m\u001b[1;33m(\u001b[0m\u001b[0mfloat\u001b[0m\u001b[1;33m)\u001b[0m\u001b[1;33m\u001b[0m\u001b[1;33m\u001b[0m\u001b[0m\n\u001b[0m\u001b[0;32m      3\u001b[0m \u001b[1;31m#stresses = flow.iloc[5,:].str.split(' ', expand=True)\u001b[0m\u001b[1;33m\u001b[0m\u001b[1;33m\u001b[0m\u001b[1;33m\u001b[0m\u001b[0m\n\u001b[0;32m      4\u001b[0m \u001b[0mstrains\u001b[0m\u001b[1;33m\u001b[0m\u001b[1;33m\u001b[0m\u001b[0m\n",
      "\u001b[1;32mC:\\ProgramData\\Anaconda3\\lib\\site-packages\\pandas\\core\\generic.py\u001b[0m in \u001b[0;36mastype\u001b[1;34m(self, dtype, copy, errors)\u001b[0m\n\u001b[0;32m   5875\u001b[0m         \u001b[1;32melse\u001b[0m\u001b[1;33m:\u001b[0m\u001b[1;33m\u001b[0m\u001b[1;33m\u001b[0m\u001b[0m\n\u001b[0;32m   5876\u001b[0m             \u001b[1;31m# else, only a single dtype is given\u001b[0m\u001b[1;33m\u001b[0m\u001b[1;33m\u001b[0m\u001b[1;33m\u001b[0m\u001b[0m\n\u001b[1;32m-> 5877\u001b[1;33m             \u001b[0mnew_data\u001b[0m \u001b[1;33m=\u001b[0m \u001b[0mself\u001b[0m\u001b[1;33m.\u001b[0m\u001b[0m_mgr\u001b[0m\u001b[1;33m.\u001b[0m\u001b[0mastype\u001b[0m\u001b[1;33m(\u001b[0m\u001b[0mdtype\u001b[0m\u001b[1;33m=\u001b[0m\u001b[0mdtype\u001b[0m\u001b[1;33m,\u001b[0m \u001b[0mcopy\u001b[0m\u001b[1;33m=\u001b[0m\u001b[0mcopy\u001b[0m\u001b[1;33m,\u001b[0m \u001b[0merrors\u001b[0m\u001b[1;33m=\u001b[0m\u001b[0merrors\u001b[0m\u001b[1;33m)\u001b[0m\u001b[1;33m\u001b[0m\u001b[1;33m\u001b[0m\u001b[0m\n\u001b[0m\u001b[0;32m   5878\u001b[0m             \u001b[1;32mreturn\u001b[0m \u001b[0mself\u001b[0m\u001b[1;33m.\u001b[0m\u001b[0m_constructor\u001b[0m\u001b[1;33m(\u001b[0m\u001b[0mnew_data\u001b[0m\u001b[1;33m)\u001b[0m\u001b[1;33m.\u001b[0m\u001b[0m__finalize__\u001b[0m\u001b[1;33m(\u001b[0m\u001b[0mself\u001b[0m\u001b[1;33m,\u001b[0m \u001b[0mmethod\u001b[0m\u001b[1;33m=\u001b[0m\u001b[1;34m\"astype\"\u001b[0m\u001b[1;33m)\u001b[0m\u001b[1;33m\u001b[0m\u001b[1;33m\u001b[0m\u001b[0m\n\u001b[0;32m   5879\u001b[0m \u001b[1;33m\u001b[0m\u001b[0m\n",
      "\u001b[1;32mC:\\ProgramData\\Anaconda3\\lib\\site-packages\\pandas\\core\\internals\\managers.py\u001b[0m in \u001b[0;36mastype\u001b[1;34m(self, dtype, copy, errors)\u001b[0m\n\u001b[0;32m    629\u001b[0m         \u001b[0mself\u001b[0m\u001b[1;33m,\u001b[0m \u001b[0mdtype\u001b[0m\u001b[1;33m,\u001b[0m \u001b[0mcopy\u001b[0m\u001b[1;33m:\u001b[0m \u001b[0mbool\u001b[0m \u001b[1;33m=\u001b[0m \u001b[1;32mFalse\u001b[0m\u001b[1;33m,\u001b[0m \u001b[0merrors\u001b[0m\u001b[1;33m:\u001b[0m \u001b[0mstr\u001b[0m \u001b[1;33m=\u001b[0m \u001b[1;34m\"raise\"\u001b[0m\u001b[1;33m\u001b[0m\u001b[1;33m\u001b[0m\u001b[0m\n\u001b[0;32m    630\u001b[0m     ) -> \"BlockManager\":\n\u001b[1;32m--> 631\u001b[1;33m         \u001b[1;32mreturn\u001b[0m \u001b[0mself\u001b[0m\u001b[1;33m.\u001b[0m\u001b[0mapply\u001b[0m\u001b[1;33m(\u001b[0m\u001b[1;34m\"astype\"\u001b[0m\u001b[1;33m,\u001b[0m \u001b[0mdtype\u001b[0m\u001b[1;33m=\u001b[0m\u001b[0mdtype\u001b[0m\u001b[1;33m,\u001b[0m \u001b[0mcopy\u001b[0m\u001b[1;33m=\u001b[0m\u001b[0mcopy\u001b[0m\u001b[1;33m,\u001b[0m \u001b[0merrors\u001b[0m\u001b[1;33m=\u001b[0m\u001b[0merrors\u001b[0m\u001b[1;33m)\u001b[0m\u001b[1;33m\u001b[0m\u001b[1;33m\u001b[0m\u001b[0m\n\u001b[0m\u001b[0;32m    632\u001b[0m \u001b[1;33m\u001b[0m\u001b[0m\n\u001b[0;32m    633\u001b[0m     def convert(\n",
      "\u001b[1;32mC:\\ProgramData\\Anaconda3\\lib\\site-packages\\pandas\\core\\internals\\managers.py\u001b[0m in \u001b[0;36mapply\u001b[1;34m(self, f, align_keys, ignore_failures, **kwargs)\u001b[0m\n\u001b[0;32m    425\u001b[0m                     \u001b[0mapplied\u001b[0m \u001b[1;33m=\u001b[0m \u001b[0mb\u001b[0m\u001b[1;33m.\u001b[0m\u001b[0mapply\u001b[0m\u001b[1;33m(\u001b[0m\u001b[0mf\u001b[0m\u001b[1;33m,\u001b[0m \u001b[1;33m**\u001b[0m\u001b[0mkwargs\u001b[0m\u001b[1;33m)\u001b[0m\u001b[1;33m\u001b[0m\u001b[1;33m\u001b[0m\u001b[0m\n\u001b[0;32m    426\u001b[0m                 \u001b[1;32melse\u001b[0m\u001b[1;33m:\u001b[0m\u001b[1;33m\u001b[0m\u001b[1;33m\u001b[0m\u001b[0m\n\u001b[1;32m--> 427\u001b[1;33m                     \u001b[0mapplied\u001b[0m \u001b[1;33m=\u001b[0m \u001b[0mgetattr\u001b[0m\u001b[1;33m(\u001b[0m\u001b[0mb\u001b[0m\u001b[1;33m,\u001b[0m \u001b[0mf\u001b[0m\u001b[1;33m)\u001b[0m\u001b[1;33m(\u001b[0m\u001b[1;33m**\u001b[0m\u001b[0mkwargs\u001b[0m\u001b[1;33m)\u001b[0m\u001b[1;33m\u001b[0m\u001b[1;33m\u001b[0m\u001b[0m\n\u001b[0m\u001b[0;32m    428\u001b[0m             \u001b[1;32mexcept\u001b[0m \u001b[1;33m(\u001b[0m\u001b[0mTypeError\u001b[0m\u001b[1;33m,\u001b[0m \u001b[0mNotImplementedError\u001b[0m\u001b[1;33m)\u001b[0m\u001b[1;33m:\u001b[0m\u001b[1;33m\u001b[0m\u001b[1;33m\u001b[0m\u001b[0m\n\u001b[0;32m    429\u001b[0m                 \u001b[1;32mif\u001b[0m \u001b[1;32mnot\u001b[0m \u001b[0mignore_failures\u001b[0m\u001b[1;33m:\u001b[0m\u001b[1;33m\u001b[0m\u001b[1;33m\u001b[0m\u001b[0m\n",
      "\u001b[1;32mC:\\ProgramData\\Anaconda3\\lib\\site-packages\\pandas\\core\\internals\\blocks.py\u001b[0m in \u001b[0;36mastype\u001b[1;34m(self, dtype, copy, errors)\u001b[0m\n\u001b[0;32m    671\u001b[0m             \u001b[0mvals1d\u001b[0m \u001b[1;33m=\u001b[0m \u001b[0mvalues\u001b[0m\u001b[1;33m.\u001b[0m\u001b[0mravel\u001b[0m\u001b[1;33m(\u001b[0m\u001b[1;33m)\u001b[0m\u001b[1;33m\u001b[0m\u001b[1;33m\u001b[0m\u001b[0m\n\u001b[0;32m    672\u001b[0m             \u001b[1;32mtry\u001b[0m\u001b[1;33m:\u001b[0m\u001b[1;33m\u001b[0m\u001b[1;33m\u001b[0m\u001b[0m\n\u001b[1;32m--> 673\u001b[1;33m                 \u001b[0mvalues\u001b[0m \u001b[1;33m=\u001b[0m \u001b[0mastype_nansafe\u001b[0m\u001b[1;33m(\u001b[0m\u001b[0mvals1d\u001b[0m\u001b[1;33m,\u001b[0m \u001b[0mdtype\u001b[0m\u001b[1;33m,\u001b[0m \u001b[0mcopy\u001b[0m\u001b[1;33m=\u001b[0m\u001b[1;32mTrue\u001b[0m\u001b[1;33m)\u001b[0m\u001b[1;33m\u001b[0m\u001b[1;33m\u001b[0m\u001b[0m\n\u001b[0m\u001b[0;32m    674\u001b[0m             \u001b[1;32mexcept\u001b[0m \u001b[1;33m(\u001b[0m\u001b[0mValueError\u001b[0m\u001b[1;33m,\u001b[0m \u001b[0mTypeError\u001b[0m\u001b[1;33m)\u001b[0m\u001b[1;33m:\u001b[0m\u001b[1;33m\u001b[0m\u001b[1;33m\u001b[0m\u001b[0m\n\u001b[0;32m    675\u001b[0m                 \u001b[1;31m# e.g. astype_nansafe can fail on object-dtype of strings\u001b[0m\u001b[1;33m\u001b[0m\u001b[1;33m\u001b[0m\u001b[1;33m\u001b[0m\u001b[0m\n",
      "\u001b[1;32mC:\\ProgramData\\Anaconda3\\lib\\site-packages\\pandas\\core\\dtypes\\cast.py\u001b[0m in \u001b[0;36mastype_nansafe\u001b[1;34m(arr, dtype, copy, skipna)\u001b[0m\n\u001b[0;32m   1095\u001b[0m     \u001b[1;32mif\u001b[0m \u001b[0mcopy\u001b[0m \u001b[1;32mor\u001b[0m \u001b[0mis_object_dtype\u001b[0m\u001b[1;33m(\u001b[0m\u001b[0marr\u001b[0m\u001b[1;33m)\u001b[0m \u001b[1;32mor\u001b[0m \u001b[0mis_object_dtype\u001b[0m\u001b[1;33m(\u001b[0m\u001b[0mdtype\u001b[0m\u001b[1;33m)\u001b[0m\u001b[1;33m:\u001b[0m\u001b[1;33m\u001b[0m\u001b[1;33m\u001b[0m\u001b[0m\n\u001b[0;32m   1096\u001b[0m         \u001b[1;31m# Explicit copy, or required since NumPy can't view from / to object.\u001b[0m\u001b[1;33m\u001b[0m\u001b[1;33m\u001b[0m\u001b[1;33m\u001b[0m\u001b[0m\n\u001b[1;32m-> 1097\u001b[1;33m         \u001b[1;32mreturn\u001b[0m \u001b[0marr\u001b[0m\u001b[1;33m.\u001b[0m\u001b[0mastype\u001b[0m\u001b[1;33m(\u001b[0m\u001b[0mdtype\u001b[0m\u001b[1;33m,\u001b[0m \u001b[0mcopy\u001b[0m\u001b[1;33m=\u001b[0m\u001b[1;32mTrue\u001b[0m\u001b[1;33m)\u001b[0m\u001b[1;33m\u001b[0m\u001b[1;33m\u001b[0m\u001b[0m\n\u001b[0m\u001b[0;32m   1098\u001b[0m \u001b[1;33m\u001b[0m\u001b[0m\n\u001b[0;32m   1099\u001b[0m     \u001b[1;32mreturn\u001b[0m \u001b[0marr\u001b[0m\u001b[1;33m.\u001b[0m\u001b[0mview\u001b[0m\u001b[1;33m(\u001b[0m\u001b[0mdtype\u001b[0m\u001b[1;33m)\u001b[0m\u001b[1;33m\u001b[0m\u001b[1;33m\u001b[0m\u001b[0m\n",
      "\u001b[1;31mValueError\u001b[0m: could not convert string to float: ''"
     ]
    }
   ],
   "source": [
    "flow = pd.read_csv('./flowcurves/simulations.csv', header=None)\n",
    "strains = flow.iloc[4,:].str.replace('[', '').replace(']', '').replace('\\n', '').str.split(' ', expand=True).astype(float)\n",
    "#stresses = flow.iloc[5,:].str.split(' ', expand=True)\n",
    "strains"
   ]
  },
  {
   "cell_type": "code",
   "execution_count": 143,
   "id": "5bcecd35-db50-44fa-b971-dd5c3bad20ce",
   "metadata": {},
   "outputs": [
    {
     "data": {
      "text/html": [
       "<div>\n",
       "<style scoped>\n",
       "    .dataframe tbody tr th:only-of-type {\n",
       "        vertical-align: middle;\n",
       "    }\n",
       "\n",
       "    .dataframe tbody tr th {\n",
       "        vertical-align: top;\n",
       "    }\n",
       "\n",
       "    .dataframe thead th {\n",
       "        text-align: right;\n",
       "    }\n",
       "</style>\n",
       "<table border=\"1\" class=\"dataframe\">\n",
       "  <thead>\n",
       "    <tr style=\"text-align: right;\">\n",
       "      <th></th>\n",
       "      <th>True stress, MPa</th>\n",
       "      <th>True strain, -</th>\n",
       "      <th>Simulated strain</th>\n",
       "    </tr>\n",
       "  </thead>\n",
       "  <tbody>\n",
       "    <tr>\n",
       "      <th>0</th>\n",
       "      <td>1.600000e-12</td>\n",
       "      <td>0.000000</td>\n",
       "      <td>-6.815842e-18</td>\n",
       "    </tr>\n",
       "    <tr>\n",
       "      <th>1</th>\n",
       "      <td>4.069159e+01</td>\n",
       "      <td>0.000173</td>\n",
       "      <td>-6.803369e-18</td>\n",
       "    </tr>\n",
       "    <tr>\n",
       "      <th>2</th>\n",
       "      <td>8.141870e+01</td>\n",
       "      <td>0.000346</td>\n",
       "      <td>-1.636737e-07</td>\n",
       "    </tr>\n",
       "    <tr>\n",
       "      <th>3</th>\n",
       "      <td>1.221813e+02</td>\n",
       "      <td>0.000519</td>\n",
       "      <td>-4.911007e-07</td>\n",
       "    </tr>\n",
       "    <tr>\n",
       "      <th>4</th>\n",
       "      <td>1.629656e+02</td>\n",
       "      <td>0.000693</td>\n",
       "      <td>-7.919114e-07</td>\n",
       "    </tr>\n",
       "    <tr>\n",
       "      <th>...</th>\n",
       "      <td>...</td>\n",
       "      <td>...</td>\n",
       "      <td>...</td>\n",
       "    </tr>\n",
       "    <tr>\n",
       "      <th>168</th>\n",
       "      <td>3.875211e+02</td>\n",
       "      <td>0.075037</td>\n",
       "      <td>NaN</td>\n",
       "    </tr>\n",
       "    <tr>\n",
       "      <th>169</th>\n",
       "      <td>3.881409e+02</td>\n",
       "      <td>0.075501</td>\n",
       "      <td>NaN</td>\n",
       "    </tr>\n",
       "    <tr>\n",
       "      <th>170</th>\n",
       "      <td>3.887579e+02</td>\n",
       "      <td>0.075966</td>\n",
       "      <td>NaN</td>\n",
       "    </tr>\n",
       "    <tr>\n",
       "      <th>171</th>\n",
       "      <td>3.893723e+02</td>\n",
       "      <td>0.076430</td>\n",
       "      <td>NaN</td>\n",
       "    </tr>\n",
       "    <tr>\n",
       "      <th>172</th>\n",
       "      <td>3.899839e+02</td>\n",
       "      <td>0.076893</td>\n",
       "      <td>NaN</td>\n",
       "    </tr>\n",
       "  </tbody>\n",
       "</table>\n",
       "<p>173 rows × 3 columns</p>\n",
       "</div>"
      ],
      "text/plain": [
       "     True stress, MPa  True strain, -  Simulated strain\n",
       "0        1.600000e-12        0.000000     -6.815842e-18\n",
       "1        4.069159e+01        0.000173     -6.803369e-18\n",
       "2        8.141870e+01        0.000346     -1.636737e-07\n",
       "3        1.221813e+02        0.000519     -4.911007e-07\n",
       "4        1.629656e+02        0.000693     -7.919114e-07\n",
       "..                ...             ...               ...\n",
       "168      3.875211e+02        0.075037               NaN\n",
       "169      3.881409e+02        0.075501               NaN\n",
       "170      3.887579e+02        0.075966               NaN\n",
       "171      3.893723e+02        0.076430               NaN\n",
       "172      3.899839e+02        0.076893               NaN\n",
       "\n",
       "[173 rows x 3 columns]"
      ]
     },
     "execution_count": 143,
     "metadata": {},
     "output_type": "execute_result"
    }
   ],
   "source": [
    "exp = pd.read_csv('exp_curve.csv')\n",
    "exp"
   ]
  },
  {
   "cell_type": "code",
   "execution_count": 79,
   "id": "f5dd64d5-5053-46cb-8f02-4609cb472ed2",
   "metadata": {},
   "outputs": [],
   "source": [
    "a = {1:(np.array([1,2]),np.array([1,2])),2:(np.array([2,3]),np.array([2,3]))}\n",
    "pd.DataFrame.from_dict(a).to_csv('a.csv')"
   ]
  },
  {
   "cell_type": "code",
   "execution_count": 204,
   "id": "fa7eb113-2383-4f93-a912-d7d705620937",
   "metadata": {},
   "outputs": [],
   "source": [
    "dirs = [f'./simulations/{i}' for i in range(1,18)]\n",
    "sim = SIM()\n",
    "params = sim.get_grid() + [(119, 249, 750,  3)]\n",
    "d2p = dict(zip(dirs, params))\n",
    "sim.filename2params = d2p\n",
    "sim.save_outputs()"
   ]
  },
  {
   "cell_type": "code",
   "execution_count": 227,
   "id": "56491f1e-0d0f-4dd4-9238-bb705c8e24ee",
   "metadata": {},
   "outputs": [
    {
     "data": {
      "text/plain": [
       "[<matplotlib.lines.Line2D at 0x1d80024b400>]"
      ]
     },
     "execution_count": 227,
     "metadata": {},
     "output_type": "execute_result"
    },
    {
     "data": {
      "image/png": "[encoded data removed]",
      "text/plain": [
       "<Figure size 864x864 with 1 Axes>"
      ]
     },
     "metadata": {
      "needs_background": "light"
     },
     "output_type": "display_data"
    }
   ],
   "source": [
    "plt.figure(figsize=(12,12))\n",
    "all_sim = list(sim.simulations.values())\n",
    "s = [plt.plot(strain, stress, 'x', c='orange') for (strain,stress) in all_sim[0:17]]\n",
    "plt.plot(all_sim[-1][0], all_sim[-1][1], 'X', c='red')\n",
    "key = list(sim.simulations.keys())\n",
    "plt.plot(exp.iloc[:,1],exp.iloc[:,0])"
   ]
  },
  {
   "cell_type": "code",
   "execution_count": 184,
   "id": "20b67b7e-59a7-402c-be06-dd8e087d4ec2",
   "metadata": {},
   "outputs": [],
   "source": [
    "np.save('temp.npy',sim.simulations)"
   ]
  },
  {
   "cell_type": "code",
   "execution_count": 186,
   "id": "491f9c0a-dcbb-4d49-8642-65ae2be18b10",
   "metadata": {},
   "outputs": [
    {
     "data": {
      "text/plain": [
       "array({(100, 230, 600, 3): (array([-6.81584234e-18, -6.80336863e-18, -1.63673663e-07, -4.91100742e-07,\n",
       "       -6.01551233e-07,  2.80188279e-05,  1.48522397e-04,  3.19426763e-04,\n",
       "        5.04444865e-04,  6.94245834e-04,  8.86479510e-04,  1.08042936e-03,\n",
       "        1.27564883e-03,  1.47169214e-03,  1.66831772e-03,  1.86538954e-03,\n",
       "        4.40657684e-03,  6.94963164e-03,  9.48797248e-03,  1.20203891e-02,\n",
       "        1.45466927e-02,  1.70668664e-02,  1.95809285e-02,  2.20889069e-02,\n",
       "        2.45908143e-02,  2.70866573e-02,  2.95764477e-02,  3.20602015e-02,\n",
       "        3.45379401e-02,  3.70096849e-02,  3.94754536e-02,  4.19352633e-02,\n",
       "        4.43891306e-02,  4.68370669e-02,  4.92790802e-02,  5.17151771e-02,\n",
       "        5.41453723e-02,  5.65696926e-02,  5.89881622e-02,  6.14008013e-02,\n",
       "        6.38076336e-02,  6.62086821e-02,  6.86039726e-02,  7.09935404e-02,\n",
       "        7.33774240e-02,  7.57556519e-02]), array([1.60176063e-12, 4.06915930e+01, 8.14187008e+01, 1.22181344e+02,\n",
       "       1.62901926e+02, 1.97778351e+02, 2.13981056e+02, 2.19940541e+02,\n",
       "       2.23025358e+02, 2.25127765e+02, 2.26734571e+02, 2.27985588e+02,\n",
       "       2.28968151e+02, 2.29772483e+02, 2.30446514e+02, 2.31017452e+02,\n",
       "       2.35046685e+02, 2.37404372e+02, 2.39443014e+02, 2.41367969e+02,\n",
       "       2.43224270e+02, 2.45027267e+02, 2.46783772e+02, 2.48498342e+02,\n",
       "       2.50174113e+02, 2.51812639e+02, 2.53415309e+02, 2.54983702e+02,\n",
       "       2.56519135e+02, 2.58023274e+02, 2.59497743e+02, 2.60944109e+02,\n",
       "       2.62363724e+02, 2.63757676e+02, 2.65127634e+02, 2.66475102e+02,\n",
       "       2.67801265e+02, 2.69107079e+02, 2.70393667e+02, 2.71662226e+02,\n",
       "       2.72913542e+02, 2.74147922e+02, 2.75365056e+02, 2.76564985e+02,\n",
       "       2.77748503e+02, 2.78916779e+02])), (100, 230, 600, 4): (array([-6.81584234e-18, -6.80336863e-18, -1.63673663e-07, -4.91100742e-07,\n",
       "       -6.01135973e-07,  2.80655497e-05,  1.48787352e-04,  3.20041380e-04,\n",
       "        5.05475937e-04,  6.95722977e-04,  8.88422863e-04,  1.08285418e-03,\n",
       "        1.27856369e-03,  1.47510484e-03,  1.67223457e-03,  1.86981042e-03,\n",
       "        4.41749564e-03,  6.96684923e-03,  9.51124749e-03,  1.20494948e-02,\n",
       "        1.45813966e-02,  1.71069690e-02,  1.96262644e-02,  2.21393158e-02,\n",
       "        2.46461403e-02,  2.71467459e-02,  2.96411486e-02,  3.21293666e-02,\n",
       "        3.46114137e-02,  3.70873099e-02,  3.95570858e-02,  4.20207764e-02,\n",
       "        4.44784140e-02,  4.69300213e-02,  4.93756058e-02,  5.18151547e-02,\n",
       "        5.42486584e-02,  5.66761322e-02,  5.90976092e-02,  6.15131403e-02,\n",
       "        6.39227870e-02,  6.63266041e-02,  6.87246343e-02,  7.11169153e-02,\n",
       "        7.35034839e-02,  7.58843741e-02]), array([1.60176063e-12, 4.06915930e+01, 8.14187008e+01, 1.22181344e+02,\n",
       "       1.62901841e+02, 1.97768845e+02, 2.13927239e+02, 2.19815754e+02,\n",
       "       2.22815862e+02, 2.24827488e+02, 2.26339507e+02, 2.27492477e+02,\n",
       "       2.28375026e+02, 2.29077580e+02, 2.29648436e+02, 2.30116053e+02,\n",
       "       2.32805540e+02, 2.33849163e+02, 2.34611011e+02, 2.35299623e+02,\n",
       "       2.35954468e+02, 2.36589518e+02, 2.37210800e+02, 2.37821252e+02,\n",
       "       2.38422443e+02, 2.39014901e+02, 2.39598672e+02, 2.40173965e+02,\n",
       "       2.40741067e+02, 2.41300296e+02, 2.41851812e+02, 2.42395703e+02,\n",
       "       2.42932086e+02, 2.43461612e+02, 2.43985692e+02, 2.44505081e+02,\n",
       "       2.45020168e+02, 2.45531336e+02, 2.46038819e+02, 2.46542737e+02,\n",
       "       2.47043075e+02, 2.47539369e+02, 2.48031683e+02, 2.48520484e+02,\n",
       "       2.49006223e+02, 2.49489369e+02])), (100, 230, 600, 5): (array([-6.81584234e-18, -6.80336863e-18, -1.63673663e-07, -4.91100742e-07,\n",
       "       -6.01755555e-07,  2.79959997e-05,  1.48393245e-04,  3.19127577e-04,\n",
       "        5.03943525e-04,  6.93528478e-04,  8.85536772e-04,  1.07925436e-03,\n",
       "        1.27423784e-03,  1.47004206e-03,  1.66642573e-03,  1.86325617e-03,\n",
       "        4.40137732e-03,  6.94153351e-03,  9.47715078e-03,  1.20070175e-02,\n",
       "        1.45309404e-02,  1.70488704e-02,  1.95608022e-02,  2.20667541e-02,\n",
       "        2.45667331e-02,  2.70607433e-02,  2.95487978e-02,  3.20309114e-02,\n",
       "        3.45070979e-02,  3.69773675e-02,  3.94417253e-02,  4.19001793e-02,\n",
       "        4.43527409e-02,  4.67994176e-02,  4.92402110e-02,  5.16751356e-02,\n",
       "        5.41042254e-02,  5.65275116e-02,  5.89450064e-02,  6.13567168e-02,\n",
       "        6.37626586e-02,  6.61628522e-02,  6.85573182e-02,  7.09460789e-02,\n",
       "        7.33291663e-02,  7.57066095e-02]), array([1.60176063e-12, 4.06915930e+01, 8.14187008e+01, 1.22181344e+02,\n",
       "       1.62901968e+02, 1.97782996e+02, 2.14007290e+02, 2.20001285e+02,\n",
       "       2.23127220e+02, 2.25273591e+02, 2.26926221e+02, 2.28224532e+02,\n",
       "       2.29255252e+02, 2.30108453e+02, 2.30831978e+02, 2.31452395e+02,\n",
       "       2.36113674e+02, 2.39075490e+02, 2.41686596e+02, 2.44153281e+02,\n",
       "       2.46523721e+02, 2.48815372e+02, 2.51037209e+02, 2.53195479e+02,\n",
       "       2.55294351e+02, 2.57336715e+02, 2.59325565e+02, 2.61263544e+02,\n",
       "       2.63152926e+02, 2.64996498e+02, 2.66797078e+02, 2.68557219e+02,\n",
       "       2.70279020e+02, 2.71963843e+02, 2.73613538e+02, 2.75230437e+02,\n",
       "       2.76816150e+02, 2.78372081e+02, 2.79900233e+02, 2.81402591e+02,\n",
       "       2.82880463e+02, 2.84334534e+02, 2.85764660e+02, 2.87170716e+02,\n",
       "       2.88553552e+02, 2.89914602e+02])), (100, 230, 600, 6): (array([-6.81584234e-18, -6.80336863e-18, -1.63673665e-07, -4.91100745e-07,\n",
       "       -6.01200223e-07,  2.80582216e-05,  1.48745790e-04,  3.19944960e-04,\n",
       "        5.05314148e-04,  6.95491154e-04,  8.88117829e-04,  1.08247352e-03,\n",
       "        1.27810607e-03,  1.47456899e-03,  1.67161955e-03,  1.86911625e-03,\n",
       "        4.41578005e-03,  6.96414323e-03,  9.50758984e-03,  1.20449193e-02,\n",
       "        1.45759356e-02,  1.71006537e-02,  1.96191227e-02,  2.21313743e-02,\n",
       "        2.46374241e-02,  2.71372806e-02,  2.96309600e-02,  3.21184774e-02,\n",
       "        3.45998456e-02,  3.70750881e-02,  3.95442371e-02,  4.20073249e-02,\n",
       "        4.44643789e-02,  4.69154187e-02,  4.93604531e-02,  5.17994769e-02,\n",
       "        5.42324808e-02,  5.66594754e-02,  5.90804893e-02,  6.14955728e-02,\n",
       "        6.39047815e-02,  6.63081650e-02,  6.87057672e-02,  7.10976290e-02,\n",
       "        7.34837875e-02,  7.58642758e-02]), array([1.60176063e-12, 4.06915930e+01, 8.14187008e+01, 1.22181344e+02,\n",
       "       1.62901854e+02, 1.97770336e+02, 2.13935681e+02, 2.19835330e+02,\n",
       "       2.22848735e+02, 2.24874614e+02, 2.26401517e+02, 2.27569888e+02,\n",
       "       2.28468146e+02, 2.29186695e+02, 2.29773756e+02, 2.30257600e+02,\n",
       "       2.33157713e+02, 2.34408075e+02, 2.35370847e+02, 2.36253975e+02,\n",
       "       2.37097847e+02, 2.37916591e+02, 2.38716266e+02, 2.39499977e+02,\n",
       "       2.40269542e+02, 2.41025739e+02, 2.41768821e+02, 2.42499151e+02,\n",
       "       2.43217168e+02, 2.43923462e+02, 2.44618375e+02, 2.45302054e+02,\n",
       "       2.45974848e+02, 2.46637496e+02, 2.47291606e+02, 2.47938220e+02,\n",
       "       2.48577875e+02, 2.49211014e+02, 2.49837818e+02, 2.50458406e+02,\n",
       "       2.51072989e+02, 2.51681221e+02, 2.52283004e+02, 2.52878950e+02,\n",
       "       2.53469775e+02, 2.54056115e+02])), (100, 230, 700, 3): (array([-6.81584234e-18, -6.80336863e-18, -1.63673664e-07, -4.91100742e-07,\n",
       "       -6.01672244e-07,  2.80053885e-05,  1.48446256e-04,  3.19250253e-04,\n",
       "        5.04148851e-04,  6.93821913e-04,  8.85921910e-04,  1.07973376e-03,\n",
       "        1.27481277e-03,  1.47071352e-03,  1.66719460e-03,  1.86412198e-03,\n",
       "        4.40345042e-03,  6.94470525e-03,  9.48131437e-03,  1.20120704e-02,\n",
       "        1.45367874e-02,  1.70554321e-02,  1.95680103e-02,  2.20745468e-02,\n",
       "        2.45750534e-02,  2.70695366e-02,  2.95580119e-02,  3.20404983e-02,\n",
       "        3.45170152e-02,  3.69875781e-02,  3.94521963e-02,  4.19108804e-02,\n",
       "        4.43636438e-02,  4.68104955e-02,  4.92514385e-02,  5.16864858e-02,\n",
       "        5.41156694e-02,  5.65390236e-02,  5.89565629e-02,  6.13682967e-02,\n",
       "        6.37742436e-02,  6.61744262e-02,  6.85688675e-02,  7.09575916e-02,\n",
       "        7.33406322e-02,  7.57180188e-02]), array([1.60176063e-12, 4.06915930e+01, 8.14187008e+01, 1.22181344e+02,\n",
       "       1.62901951e+02, 1.97781085e+02, 2.13996522e+02, 2.19976378e+02,\n",
       "       2.23085502e+02, 2.25213941e+02, 2.26847926e+02, 2.28127044e+02,\n",
       "       2.29138270e+02, 2.29971743e+02, 2.30675338e+02, 2.31275883e+02,\n",
       "       2.35688290e+02, 2.38421134e+02, 2.40823805e+02, 2.43101278e+02,\n",
       "       2.45299799e+02, 2.47435294e+02, 2.49515325e+02, 2.51545006e+02,\n",
       "       2.53527627e+02, 2.55465042e+02, 2.57359276e+02, 2.59212232e+02,\n",
       "       2.61025495e+02, 2.62801166e+02, 2.64541465e+02, 2.66248430e+02,\n",
       "       2.67923726e+02, 2.69568367e+02, 2.71183871e+02, 2.72772113e+02,\n",
       "       2.74334321e+02, 2.75871584e+02, 2.77385633e+02, 2.78878112e+02,\n",
       "       2.80350040e+02, 2.81801834e+02, 2.83233085e+02, 2.84643561e+02,\n",
       "       2.86034004e+02, 2.87405670e+02])), (100, 230, 700, 4): (array([-6.81584234e-18, -6.80336863e-18, -1.63673663e-07, -4.91100742e-07,\n",
       "       -6.01202663e-07,  2.80578969e-05,  1.48743947e-04,  3.19940673e-04,\n",
       "        5.05306914e-04,  6.95480725e-04,  8.88104020e-04,  1.08245617e-03,\n",
       "        1.27808507e-03,  1.47454425e-03,  1.67159095e-03,  1.86908375e-03,\n",
       "        4.41569267e-03,  6.96399418e-03,  9.50737336e-03,  1.20446299e-02,\n",
       "        1.45755685e-02,  1.71002043e-02,  1.96185869e-02,  2.21307481e-02,\n",
       "        2.46367040e-02,  2.71364636e-02,  2.96300433e-02,  3.21174584e-02,\n",
       "        3.45987223e-02,  3.70738592e-02,  3.95429021e-02,  4.20058827e-02,\n",
       "        4.44628280e-02,  4.69137574e-02,  4.93586804e-02,  5.17975930e-02,\n",
       "        5.42304871e-02,  5.66573730e-02,  5.90782796e-02,  6.14932566e-02,\n",
       "        6.39023575e-02,  6.63056313e-02,  6.87031220e-02,  7.10948714e-02,\n",
       "        7.34809171e-02,  7.58612923e-02]), array([1.60176063e-12, 4.06915930e+01, 8.14187008e+01, 1.22181344e+02,\n",
       "       1.62901855e+02, 1.97770402e+02, 2.13936055e+02, 2.19836201e+02,\n",
       "       2.22850205e+02, 2.24876733e+02, 2.26404324e+02, 2.27573416e+02,\n",
       "       2.28472418e+02, 2.29191734e+02, 2.29779583e+02, 2.30264226e+02,\n",
       "       2.33175655e+02, 2.34438875e+02, 2.35415860e+02, 2.36314403e+02,\n",
       "       2.37174842e+02, 2.38011221e+02, 2.38829506e+02, 2.39632726e+02,\n",
       "       2.40422632e+02, 2.41199943e+02, 2.41964853e+02, 2.42717673e+02,\n",
       "       2.43458788e+02, 2.44188757e+02, 2.44907890e+02, 2.45616290e+02,\n",
       "       2.46314285e+02, 2.47002576e+02, 2.47682734e+02, 2.48355793e+02,\n",
       "       2.49022276e+02, 2.49682596e+02, 2.50336878e+02, 2.50985214e+02,\n",
       "       2.51627810e+02, 2.52264301e+02, 2.52894561e+02, 2.53519204e+02,\n",
       "       2.54138946e+02, 2.54754410e+02])), (100, 230, 700, 5): (array([-6.81584234e-18, -6.80336863e-18, -1.63673663e-07, -4.91100742e-07,\n",
       "       -6.01926686e-07,  2.79781072e-05,  1.48292041e-04,  3.18893124e-04,\n",
       "        5.03550580e-04,  6.92966043e-04,  8.84797352e-04,  1.07833239e-03,\n",
       "        1.27313016e-03,  1.46874615e-03,  1.66493904e-03,  1.86157888e-03,\n",
       "        4.39726149e-03,  6.93507651e-03,  9.46845824e-03,  1.19962024e-02,\n",
       "        1.45181092e-02,  1.70341061e-02,  1.95441765e-02,  2.20483304e-02,\n",
       "        2.45465714e-02,  2.70389079e-02,  2.95253553e-02,  3.20059237e-02,\n",
       "        3.44806183e-02,  3.69494369e-02,  3.94123766e-02,  4.18694391e-02,\n",
       "        4.43206325e-02,  4.67659599e-02,  4.92054229e-02,  5.16390508e-02,\n",
       "        5.40668892e-02,  5.64889707e-02,  5.89053025e-02,  6.13158815e-02,\n",
       "        6.37207183e-02,  6.61198330e-02,  6.85132500e-02,  7.09009887e-02,\n",
       "        7.32830697e-02,  7.56595164e-02]), array([1.60176063e-12, 4.06915930e+01, 8.14187008e+01, 1.22181344e+02,\n",
       "       1.62902002e+02, 1.97786636e+02, 2.14027847e+02, 2.20048887e+02,\n",
       "       2.23207058e+02, 2.25387924e+02, 2.27076540e+02, 2.28412022e+02,\n",
       "       2.29480633e+02, 2.30372302e+02, 2.31134856e+02, 2.31794337e+02,\n",
       "       2.36958201e+02, 2.40407566e+02, 2.43487750e+02, 2.46405442e+02,\n",
       "       2.49210507e+02, 2.51921804e+02, 2.54549462e+02, 2.57100437e+02,\n",
       "       2.59579446e+02, 2.61990538e+02, 2.64337564e+02, 2.66623616e+02,\n",
       "       2.68851489e+02, 2.71024768e+02, 2.73146853e+02, 2.75220664e+02,\n",
       "       2.77248553e+02, 2.79232198e+02, 2.81173543e+02, 2.83075421e+02,\n",
       "       2.84940021e+02, 2.86769068e+02, 2.88564599e+02, 2.90328939e+02,\n",
       "       2.92063786e+02, 2.93770098e+02, 2.95448042e+02, 2.97097390e+02,\n",
       "       2.98718841e+02, 3.00313863e+02])), (100, 230, 700, 6): (array([-6.81584234e-18, -6.80336863e-18, -1.63673664e-07, -4.91100742e-07,\n",
       "       -6.01292401e-07,  2.80480353e-05,  1.48688008e-04,  3.19810901e-04,\n",
       "        5.05089206e-04,  6.95168838e-04,  8.87693744e-04,  1.08194431e-03,\n",
       "        1.27746985e-03,  1.47382402e-03,  1.67076448e-03,  1.86815108e-03,\n",
       "        4.41339380e-03,  6.96037721e-03,  9.50249549e-03,  1.20385428e-02,\n",
       "        1.45683231e-02,  1.70918469e-02,  1.96091572e-02,  2.21202847e-02,\n",
       "        2.46252438e-02,  2.71240433e-02,  2.96166984e-02,  3.21032206e-02,\n",
       "        3.45836251e-02,  3.70579391e-02,  3.95261925e-02,  4.19884115e-02,\n",
       "        4.44446201e-02,  4.68948366e-02,  4.93390712e-02,  5.17773255e-02,\n",
       "        5.42095946e-02,  5.66358858e-02,  5.90562288e-02,  6.14706662e-02,\n",
       "        6.38792399e-02,  6.62819931e-02,  6.86789709e-02,  7.10702188e-02,\n",
       "        7.34557741e-02,  7.58356669e-02]), array([1.60176063e-12, 4.06915930e+01, 8.14187008e+01, 1.22181344e+02,\n",
       "       1.62901873e+02, 1.97772408e+02, 2.13947417e+02, 2.19862549e+02,\n",
       "       2.22894440e+02, 2.24940135e+02, 2.26487729e+02, 2.27677508e+02,\n",
       "       2.28597607e+02, 2.29338391e+02, 2.29947985e+02, 2.30454398e+02,\n",
       "       2.33647537e+02, 2.35185838e+02, 2.36428871e+02, 2.37583756e+02,\n",
       "       2.38692185e+02, 2.39768545e+02, 2.40818929e+02, 2.41846709e+02,\n",
       "       2.42854079e+02, 2.43842116e+02, 2.44811309e+02, 2.45762282e+02,\n",
       "       2.46695681e+02, 2.47612423e+02, 2.48513129e+02, 2.49398162e+02,\n",
       "       2.50268143e+02, 2.51123954e+02, 2.51967260e+02, 2.52799434e+02,\n",
       "       2.53621272e+02, 2.54433326e+02, 2.55235739e+02, 2.56028702e+02,\n",
       "       2.56812536e+02, 2.57587077e+02, 2.58352319e+02, 2.59108924e+02,\n",
       "       2.59857724e+02, 2.60599463e+02])), (100, 230, 800, 3): (array([-6.81584234e-18, -6.80336863e-18, -1.63673663e-07, -4.91100742e-07,\n",
       "       -9.82355583e-07, -1.84100568e-07,  3.30298830e-05,  1.47236300e-04,\n",
       "        3.11811834e-04,  4.93189068e-04,  6.81031248e-04,  8.71768600e-04,\n",
       "        1.06437016e-03,  1.25839881e-03,  1.45355382e-03,  1.64949788e-03,\n",
       "        4.18753060e-03,  6.73235277e-03,  9.27350103e-03,  1.18090346e-02,\n",
       "        1.43383978e-02,  1.68614974e-02,  1.93783588e-02,  2.18890229e-02,\n",
       "        2.43935171e-02,  2.68918555e-02,  2.93840512e-02,  3.18701228e-02,\n",
       "        3.43500842e-02,  3.68239540e-02,  3.92917607e-02,  4.17535323e-02,\n",
       "        4.42092946e-02,  4.66590695e-02,  4.91028702e-02,  5.15407009e-02,\n",
       "        5.39725581e-02,  5.63984387e-02,  5.88183577e-02,  6.12323513e-02,\n",
       "        6.36404674e-02,  6.60427522e-02,  6.84392520e-02,  7.08300120e-02,\n",
       "        7.32150742e-02,  7.55944738e-02]), array([1.60176063e-12, 4.06915930e+01, 8.14187008e+01, 1.22181344e+02,\n",
       "       1.62979545e+02, 2.03517126e+02, 2.37459914e+02, 2.54937433e+02,\n",
       "       2.62177169e+02, 2.65995558e+02, 2.68489115e+02, 2.70386787e+02,\n",
       "       2.71903903e+02, 2.73123422e+02, 2.74103801e+02, 2.74913632e+02,\n",
       "       2.79624002e+02, 2.81575943e+02, 2.83002002e+02, 2.84274032e+02,\n",
       "       2.85480986e+02, 2.86648160e+02, 2.87785814e+02, 2.88898915e+02,\n",
       "       2.89990327e+02, 2.91061740e+02, 2.92113921e+02, 2.93147482e+02,\n",
       "       2.94163157e+02, 2.95161436e+02, 2.96143048e+02, 2.97108394e+02,\n",
       "       2.98058126e+02, 2.98992905e+02, 2.99914056e+02, 3.00823465e+02,\n",
       "       3.01722197e+02, 3.02610918e+02, 3.03490016e+02, 3.04359570e+02,\n",
       "       3.05219898e+02, 3.06071140e+02, 3.06912791e+02, 3.07745198e+02,\n",
       "       3.08569323e+02, 3.09386060e+02])), (100, 230, 800, 4): (array([-6.81584234e-18, -6.80336863e-18, -1.63673663e-07, -4.91100742e-07,\n",
       "       -9.82355583e-07, -1.82759722e-07,  3.30683029e-05,  1.47414117e-04,\n",
       "        3.12215290e-04,  4.93865539e-04,  6.82004591e-04,  8.73053785e-04,\n",
       "        1.06597816e-03,  1.26033848e-03,  1.45583111e-03,  1.65211596e-03,\n",
       "        4.19464963e-03,  6.74393061e-03,  9.28941423e-03,  1.18291557e-02,\n",
       "        1.43626277e-02,  1.68897320e-02,  1.94104971e-02,  2.19249747e-02,\n",
       "        2.44331965e-02,  2.69351793e-02,  2.94309329e-02,  3.19204752e-02,\n",
       "        3.44038250e-02,  3.68809948e-02,  3.93520024e-02,  4.18168774e-02,\n",
       "        4.42756556e-02,  4.67283693e-02,  4.91750340e-02,  5.16156395e-02,\n",
       "        5.40501796e-02,  5.64786718e-02,  5.89011473e-02,  6.13176477e-02,\n",
       "        6.37282277e-02,  6.61329558e-02,  6.85318838e-02,  7.09250481e-02,\n",
       "        7.33124835e-02,  7.56942227e-02]), array([1.60176063e-12, 4.06915930e+01, 8.14187008e+01, 1.22181344e+02,\n",
       "       1.62979545e+02, 2.03516853e+02, 2.37452096e+02, 2.54901298e+02,\n",
       "       2.62095235e+02, 2.65858141e+02, 2.68291242e+02, 2.70125461e+02,\n",
       "       2.71576929e+02, 2.72728899e+02, 2.73640385e+02, 2.74380544e+02,\n",
       "       2.78165192e+02, 2.79192214e+02, 2.79708589e+02, 2.80091369e+02,\n",
       "       2.80428851e+02, 2.80743654e+02, 2.81046201e+02, 2.81341522e+02,\n",
       "       2.81631758e+02, 2.81917926e+02, 2.82200303e+02, 2.82478935e+02,\n",
       "       2.82754178e+02, 2.83026301e+02, 2.83295234e+02, 2.83561088e+02,\n",
       "       2.83823986e+02, 2.84084123e+02, 2.84342424e+02, 2.84599698e+02,\n",
       "       2.84856439e+02, 2.85112980e+02, 2.85369679e+02, 2.85626958e+02,\n",
       "       2.85884604e+02, 2.86141575e+02, 2.86397856e+02, 2.86654120e+02,\n",
       "       2.86910905e+02, 2.87168602e+02])), (100, 230, 800, 5): (array([-6.81584234e-18, -6.80336863e-18, -1.63673663e-07, -4.91100742e-07,\n",
       "       -9.82355583e-07, -1.84675216e-07,  3.30133389e-05,  1.47159724e-04,\n",
       "        3.11638197e-04,  4.92898158e-04,  6.80612967e-04,  8.71216753e-04,\n",
       "        1.06368027e-03,  1.25756729e-03,  1.45257828e-03,  1.64837723e-03,\n",
       "        4.18451284e-03,  6.72749129e-03,  9.26687994e-03,  1.18007356e-02,\n",
       "        1.43284950e-02,  1.68500674e-02,  1.93654660e-02,  2.18747225e-02,\n",
       "        2.43778630e-02,  2.68748994e-02,  2.93658428e-02,  3.18507094e-02,\n",
       "        3.43295157e-02,  3.68022840e-02,  3.92690386e-02,  4.17297992e-02,\n",
       "        4.41845867e-02,  4.66334209e-02,  4.90763149e-02,  5.15132740e-02,\n",
       "        5.39442981e-02,  5.63693866e-02,  5.87885530e-02,  6.12018346e-02,\n",
       "        6.36092666e-02,  6.60108826e-02,  6.84067243e-02,  7.07968374e-02,\n",
       "        7.31812663e-02,  7.55600457e-02]), array([1.60176063e-12, 4.06915930e+01, 8.14187008e+01, 1.22181344e+02,\n",
       "       1.62979545e+02, 2.03517243e+02, 2.37463281e+02, 2.54952995e+02,\n",
       "       2.62212432e+02, 2.66054653e+02, 2.68574148e+02, 2.70498998e+02,\n",
       "       2.72044190e+02, 2.73292551e+02, 2.74302315e+02, 2.75141807e+02,\n",
       "       2.80242345e+02, 2.82576618e+02, 2.84371623e+02, 2.85997733e+02,\n",
       "       2.87544700e+02, 2.89039380e+02, 2.90492552e+02, 2.91909535e+02,\n",
       "       2.93293921e+02, 2.94648041e+02, 2.95973046e+02, 2.97270113e+02,\n",
       "       2.98540425e+02, 2.99784847e+02, 3.01004617e+02, 3.02200681e+02,\n",
       "       3.03374088e+02, 3.04525939e+02, 3.05657703e+02, 3.06771377e+02,\n",
       "       3.07868524e+02, 3.08950191e+02, 3.10016974e+02, 3.11069141e+02,\n",
       "       3.12107179e+02, 3.13131417e+02, 3.14141699e+02, 3.15138367e+02,\n",
       "       3.16122360e+02, 3.17094697e+02])), (100, 230, 800, 6): (array([-6.81584234e-18, -6.80336863e-18, -1.63673663e-07, -4.91100742e-07,\n",
       "       -9.82355583e-07, -1.82891245e-07,  3.30644946e-05,  1.47396510e-04,\n",
       "        3.12175329e-04,  4.93798515e-04,  6.81908117e-04,  8.72926362e-04,\n",
       "        1.06581869e-03,  1.26014606e-03,  1.45560515e-03,  1.65185612e-03,\n",
       "        4.19394101e-03,  6.74277498e-03,  9.28782174e-03,  1.18271372e-02,\n",
       "        1.43601904e-02,  1.68868833e-02,  1.94072451e-02,  2.19213276e-02,\n",
       "        2.44291617e-02,  2.69307639e-02,  2.94261442e-02,  3.19153210e-02,\n",
       "        3.43983125e-02,  3.68751313e-02,  3.93457961e-02,  4.18103372e-02,\n",
       "        4.42687904e-02,  4.67211885e-02,  4.91675497e-02,  5.16078646e-02,\n",
       "        5.40421198e-02,  5.64703289e-02,  5.88925229e-02,  6.13087431e-02,\n",
       "        6.37190442e-02,  6.61234966e-02,  6.85221520e-02,  7.09150454e-02,\n",
       "        7.33022120e-02,  7.56836858e-02]), array([1.60176063e-12, 4.06915930e+01, 8.14187008e+01, 1.22181344e+02,\n",
       "       1.62979545e+02, 2.03516879e+02, 2.37452871e+02, 2.54904875e+02,\n",
       "       2.62103351e+02, 2.65871756e+02, 2.68310854e+02, 2.70151371e+02,\n",
       "       2.71609357e+02, 2.72768037e+02, 2.73686368e+02, 2.74433455e+02,\n",
       "       2.78310408e+02, 2.79430173e+02, 2.80038257e+02, 2.80511125e+02,\n",
       "       2.80937152e+02, 2.81339147e+02, 2.81727480e+02, 2.82107171e+02,\n",
       "       2.82480396e+02, 2.82848217e+02, 2.83210971e+02, 2.83568744e+02,\n",
       "       2.83921870e+02, 2.84270609e+02, 2.84614942e+02, 2.84954982e+02,\n",
       "       2.85290897e+02, 2.85622913e+02, 2.85952082e+02, 2.86279275e+02,\n",
       "       2.86604957e+02, 2.86929486e+02, 2.87253241e+02, 2.87576663e+02,\n",
       "       2.87899638e+02, 2.88221172e+02, 2.88541151e+02, 2.88860282e+02,\n",
       "       2.89179125e+02, 2.89498001e+02])), (100, 230, 900, 3): (array([-6.81584234e-18, -6.80336863e-18, -1.63673663e-07, -4.91100742e-07,\n",
       "       -9.82355583e-07, -1.84592602e-07,  3.30157144e-05,  1.47170699e-04,\n",
       "        3.11663028e-04,  4.92939645e-04,  6.80672454e-04,  8.71294989e-04,\n",
       "        1.06377777e-03,  1.25768443e-03,  1.45271525e-03,  1.64853406e-03,\n",
       "        4.18491641e-03,  6.72811090e-03,  9.26768264e-03,  1.18016907e-02,\n",
       "        1.43295743e-02,  1.68512444e-02,  1.93667172e-02,  2.18760267e-02,\n",
       "        2.43792004e-02,  2.68762517e-02,  2.93671929e-02,  3.18520415e-02,\n",
       "        3.43308152e-02,  3.68035381e-02,  3.92702358e-02,  4.17309284e-02,\n",
       "        4.41856374e-02,  4.66343829e-02,  4.90771789e-02,  5.15140316e-02,\n",
       "        5.39449417e-02,  5.63699101e-02,  5.87889522e-02,  6.12021063e-02,\n",
       "        6.36094060e-02,  6.60108841e-02,  6.84065824e-02,  7.07965471e-02,\n",
       "        7.31808228e-02,  7.55594445e-02]), array([1.60176063e-12, 4.06915930e+01, 8.14187008e+01, 1.22181344e+02,\n",
       "       1.62979545e+02, 2.03517226e+02, 2.37462797e+02, 2.54950764e+02,\n",
       "       2.62207389e+02, 2.66046225e+02, 2.68562055e+02, 2.70483090e+02,\n",
       "       2.72024364e+02, 2.73268726e+02, 2.74274443e+02, 2.75109877e+02,\n",
       "       2.80159661e+02, 2.82449118e+02, 2.84205694e+02, 2.85799590e+02,\n",
       "       2.87320080e+02, 2.88793537e+02, 2.90230378e+02, 2.91635604e+02,\n",
       "       2.93012477e+02, 2.94363033e+02, 2.95688153e+02, 2.96988754e+02,\n",
       "       2.98265784e+02, 2.99519895e+02, 3.00752143e+02, 3.01963314e+02,\n",
       "       3.03154302e+02, 3.04326065e+02, 3.05479925e+02, 3.06617720e+02,\n",
       "       3.07740891e+02, 3.08850366e+02, 3.09946608e+02, 3.11029822e+02,\n",
       "       3.12100402e+02, 3.13158589e+02, 3.14204192e+02, 3.15237458e+02,\n",
       "       3.16259206e+02, 3.17270358e+02])), (100, 230, 900, 4): (array([-6.81584234e-18, -6.80336863e-18, -1.63673663e-07, -4.91100742e-07,\n",
       "       -9.82355583e-07, -1.82966747e-07,  3.30623756e-05,  1.47386675e-04,\n",
       "        3.12153001e-04,  4.93761066e-04,  6.81854202e-04,  8.72855134e-04,\n",
       "        1.06572952e-03,  1.26003844e-03,  1.45547873e-03,  1.65171070e-03,\n",
       "        4.19354286e-03,  6.74212303e-03,  9.28691966e-03,  1.18259892e-02,\n",
       "        1.43587986e-02,  1.68852503e-02,  1.94053739e-02,  2.19192209e-02,\n",
       "        2.44268222e-02,  2.69281941e-02,  2.94233468e-02,  3.19122990e-02,\n",
       "        3.43950687e-02,  3.68716688e-02,  3.93421185e-02,  4.18064485e-02,\n",
       "        4.42646947e-02,  4.67168903e-02,  4.91630546e-02,  5.16031788e-02,\n",
       "        5.40372465e-02,  5.64652686e-02,  5.88872758e-02,  6.13033094e-02,\n",
       "        6.37134246e-02,  6.61176917e-02,  6.85161623e-02,  7.09088713e-02,\n",
       "        7.32958538e-02,  7.56771450e-02]), array([1.60176063e-12, 4.06915930e+01, 8.14187008e+01, 1.22181344e+02,\n",
       "       1.62979545e+02, 2.03516895e+02, 2.37453302e+02, 2.54906874e+02,\n",
       "       2.62107885e+02, 2.65879363e+02, 2.68321815e+02, 2.70165854e+02,\n",
       "       2.71627489e+02, 2.72789926e+02, 2.73712094e+02, 2.74463064e+02,\n",
       "       2.78391998e+02, 2.79564419e+02, 2.80225004e+02, 2.80749875e+02,\n",
       "       2.81227429e+02, 2.81680576e+02, 2.82119641e+02, 2.82549619e+02,\n",
       "       2.82972694e+02, 2.83389942e+02, 2.83801716e+02, 2.84208114e+02,\n",
       "       2.84609451e+02, 2.85005967e+02, 2.85397671e+02, 2.85784667e+02,\n",
       "       2.86167141e+02, 2.86545314e+02, 2.86920288e+02, 2.87292985e+02,\n",
       "       2.87663840e+02, 2.88033224e+02, 2.88401514e+02, 2.88769135e+02,\n",
       "       2.89136027e+02, 2.89501250e+02, 2.89864629e+02, 2.90226856e+02,\n",
       "       2.90588505e+02, 2.90949855e+02])), (100, 230, 900, 5): (array([-6.81584234e-18, -6.80336863e-18, -1.63673663e-07, -4.91100742e-07,\n",
       "       -9.82355583e-07, -1.85330522e-07,  3.29944724e-05,  1.47072397e-04,\n",
       "        3.11440258e-04,  4.92566536e-04,  6.80136126e-04,  8.70587566e-04,\n",
       "        1.06289355e-03,  1.25661890e-03,  1.45146538e-03,  1.64709854e-03,\n",
       "        4.18105868e-03,  6.72190783e-03,  9.25924837e-03,  1.17911348e-02,\n",
       "        1.43170011e-02,  1.68367604e-02,  1.93504084e-02,  2.18579661e-02,\n",
       "        2.43594583e-02,  2.68548949e-02,  2.93442854e-02,  3.18276478e-02,\n",
       "        3.43050030e-02,  3.67763732e-02,  3.92417761e-02,  4.17012273e-02,\n",
       "        4.41547450e-02,  4.66023442e-02,  4.90440358e-02,  5.14798248e-02,\n",
       "        5.39097136e-02,  5.63337110e-02,  5.87518370e-02,  6.11641235e-02,\n",
       "        6.35705944e-02,  6.59712730e-02,  6.83661911e-02,  7.07553870e-02,\n",
       "        7.31389036e-02,  7.55167768e-02]), array([1.60176063e-12, 4.06915930e+01, 8.14187008e+01, 1.22181344e+02,\n",
       "       1.62979545e+02, 2.03517377e+02, 2.37467120e+02, 2.54970741e+02,\n",
       "       2.62252630e+02, 2.66122017e+02, 2.68671085e+02, 2.70626936e+02,\n",
       "       2.72204163e+02, 2.73485451e+02, 2.74528778e+02, 2.75402155e+02,\n",
       "       2.80950079e+02, 2.83725773e+02, 2.85949891e+02, 2.87990952e+02,\n",
       "       2.89939653e+02, 2.91824236e+02, 2.93655970e+02, 2.95440587e+02,\n",
       "       2.97182483e+02, 2.98884466e+02, 3.00547988e+02, 3.02174687e+02,\n",
       "       3.03766133e+02, 3.05323661e+02, 3.06848997e+02, 3.08343652e+02,\n",
       "       3.09809145e+02, 3.11246942e+02, 3.12658634e+02, 3.14046155e+02,\n",
       "       3.15411197e+02, 3.16755190e+02, 3.18078956e+02, 3.19383366e+02,\n",
       "       3.20669212e+02, 3.21937092e+02, 3.23187118e+02, 3.24419224e+02,\n",
       "       3.25634059e+02, 3.26832757e+02])), (100, 230, 900, 6): (array([-6.81584234e-18, -6.80336863e-18, -1.63673663e-07, -4.91100742e-07,\n",
       "       -9.82355583e-07, -1.83165429e-07,  3.30565955e-05,  1.47359941e-04,\n",
       "        3.12092330e-04,  4.93659328e-04,  6.81707799e-04,  8.72661809e-04,\n",
       "        1.06548762e-03,  1.25974662e-03,  1.45513609e-03,  1.65131676e-03,\n",
       "        4.19247096e-03,  6.74037882e-03,  9.28452119e-03,  1.18229553e-02,\n",
       "        1.43551434e-02,  1.68809876e-02,  1.94005187e-02,  2.19137871e-02,\n",
       "        2.44208227e-02,  2.69216413e-02,  2.94162536e-02,  3.19046787e-02,\n",
       "        3.43869336e-02,  3.68630312e-02,  3.93329926e-02,  4.17968485e-02,\n",
       "        4.42546350e-02,  4.67063851e-02,  4.91521182e-02,  5.15918277e-02,\n",
       "        5.40254933e-02,  5.64531198e-02,  5.88747363e-02,  6.12903840e-02,\n",
       "        6.37001186e-02,  6.61040082e-02,  6.85021046e-02,  7.08944438e-02,\n",
       "        7.32810610e-02,  7.56619927e-02]), array([1.60176063e-12, 4.06915930e+01, 8.14187008e+01, 1.22181344e+02,\n",
       "       1.62979545e+02, 2.03516935e+02, 2.37454478e+02, 2.54912307e+02,\n",
       "       2.62120206e+02, 2.65900030e+02, 2.68351577e+02, 2.70205164e+02,\n",
       "       2.71676677e+02, 2.72849283e+02, 2.73781819e+02, 2.74543278e+02,\n",
       "       2.78611654e+02, 2.79923557e+02, 2.80721465e+02, 2.81380668e+02,\n",
       "       2.81989679e+02, 2.82571767e+02, 2.83137209e+02, 2.83690991e+02,\n",
       "       2.84235389e+02, 2.84771570e+02, 2.85299979e+02, 2.85820792e+02,\n",
       "       2.86334334e+02, 2.86840873e+02, 2.87340530e+02, 2.87833454e+02,\n",
       "       2.88319907e+02, 2.88800118e+02, 2.89275316e+02, 2.89746631e+02,\n",
       "       2.90214516e+02, 2.90679371e+02, 2.91141596e+02, 2.91601579e+02,\n",
       "       2.92059371e+02, 2.92514249e+02, 2.92965916e+02, 2.93415012e+02,\n",
       "       2.93862149e+02, 2.94307618e+02])), (100, 240, 600, 3): (array([-6.81584234e-18, -6.80336863e-18, -1.63673663e-07, -4.91100742e-07,\n",
       "       -9.82348790e-07,  1.22548968e-07,  3.65080770e-05,  1.54642843e-04,\n",
       "        3.20653494e-04,  5.02484434e-04,  6.90391229e-04,  8.81074674e-04,\n",
       "        1.07357011e-03,  1.26746871e-03,  1.46246178e-03,  1.65821355e-03,\n",
       "        4.19306444e-03,  6.73449693e-03,  9.27232887e-03,  1.18046553e-02,\n",
       "        1.43309310e-02,  1.68510763e-02,  1.93650919e-02,  2.18730025e-02,\n",
       "        2.43748331e-02,  2.68705941e-02,  2.93602957e-02,  3.18439553e-02,\n",
       "        3.43215938e-02,  3.67932342e-02,  3.92588953e-02,  4.17185932e-02,\n",
       "        4.41723474e-02,  4.66201741e-02,  4.90620846e-02,  5.14980843e-02,\n",
       "        5.39281753e-02,  5.63523650e-02,  5.87706735e-02,  6.11831343e-02,\n",
       "        6.35897725e-02,  6.59906128e-02,  6.83856888e-02,  7.07750404e-02,\n",
       "        7.31587112e-02,  7.55367363e-02]), array([1.60176063e-12, 4.06915930e+01, 8.14187008e+01, 1.22181344e+02,\n",
       "       1.62979543e+02, 2.03454662e+02, 2.36752358e+02, 2.53431978e+02,\n",
       "       2.60379769e+02, 2.64106005e+02, 2.66586165e+02, 2.68495357e+02,\n",
       "       2.70034389e+02, 2.71280252e+02, 2.72293494e+02, 2.73142405e+02,\n",
       "       2.78504672e+02, 2.81161414e+02, 2.83284113e+02, 2.85232491e+02,\n",
       "       2.87093921e+02, 2.88895493e+02, 2.90647986e+02, 2.92356831e+02,\n",
       "       2.94026141e+02, 2.95658499e+02, 2.97255198e+02, 2.98817717e+02,\n",
       "       3.00347462e+02, 3.01845641e+02, 3.03313849e+02, 3.04753438e+02,\n",
       "       3.06165774e+02, 3.07552212e+02, 3.08914307e+02, 3.10253929e+02,\n",
       "       3.11572715e+02, 3.12871978e+02, 3.14152447e+02, 3.15414863e+02,\n",
       "       3.16659911e+02, 3.17888125e+02, 3.19099554e+02, 3.20294194e+02,\n",
       "       3.21472724e+02, 3.22636232e+02]))}, dtype=object)"
      ]
     },
     "execution_count": 186,
     "metadata": {},
     "output_type": "execute_result"
    }
   ],
   "source": [
    "np.load('temp.npy', allow_pickle=True)"
   ]
  },
  {
   "cell_type": "code",
   "execution_count": 60,
   "id": "82c665c1-4e7e-4167-9d27-4f630ad7e78f",
   "metadata": {},
   "outputs": [],
   "source": [
    "df1 = pd.DataFrame({'Simulated strain':np.mean(s, axis=0)})\n",
    "pd.concat([exp,df1], axis=1).to_csv('exp_curve_1.csv', index=False)"
   ]
  },
  {
   "cell_type": "code",
   "execution_count": 48,
   "id": "36b73eb1-bf24-432c-a582-c773550cfda2",
   "metadata": {},
   "outputs": [],
   "source": [
    "sim = SIM()\n",
    "filenames = []\n",
    "sim.get_grid()\n",
    "for i in range(1,17):\n",
    "    filenames.append(f'./simulations/{i}')\n",
    "sim.filename2params = dict(zip(filenames, sim.get_grid()))\n",
    "sim.save_outputs()"
   ]
  },
  {
   "cell_type": "code",
   "execution_count": 50,
   "id": "3900da52-fb84-42de-97dc-26ccd8bcb308",
   "metadata": {},
   "outputs": [
    {
     "data": {
      "image/png": "[encoded data removed]",
      "text/plain": [
       "<Figure size 432x288 with 1 Axes>"
      ]
     },
     "metadata": {
      "needs_background": "light"
     },
     "output_type": "display_data"
    }
   ],
   "source": [
    "for v in sim.simulations.values():\n",
    "    plt.plot(*v)"
   ]
  },
  {
   "cell_type": "code",
   "execution_count": 92,
   "id": "08aebb1a-523d-451b-93b4-0ccb9efea89a",
   "metadata": {},
   "outputs": [],
   "source": []
  },
  {
   "cell_type": "code",
   "execution_count": 100,
   "id": "4025d59b-7186-483c-ab02-c10a5785828e",
   "metadata": {},
   "outputs": [],
   "source": [
    "# 3. Initalize and fit response surface\n",
    "sim_strain = np.array(list(sim.simulations.values())[0][0])\n",
    "y = np.array([stress for (_, stress) in sim.simulations.values()])\n",
    "X = np.array(list(sim.simulations.keys()))\n",
    "n = len(y)\n",
    "\n",
    "exp = pd.read_csv('exp_curve.csv')\n",
    "exp_stress = exp[\"True stress, MPa\"]\n",
    "exp_strain = exp[\"True strain, -\"]\n",
    "f = interp1d(exp_strain, exp_stress)\n",
    "x_min, x_max = 0.002, exp_strain.max()\n",
    "prune = np.logical_and(sim_strain > x_min, sim_strain < x_max)\n",
    "sim_strain = sim_strain[prune]\n",
    "exp_target = f(sim_strain).reshape(1,len(sim_strain))\n",
    "\n",
    "\n",
    "# Save a single output to be used as ytest, to test if we can converge to it.\n",
    "#Xtrain, Xtest, ytrain, ytest = train_test_split(X, y, train_size=15/16, shuffle=True)\n",
    "mlp = MLPRegressor(hidden_layer_sizes=[15,30], solver='adam', max_iter=100000, max_fun=150000, shuffle=True)\n",
    "mlp.fit(X, y)\n",
    "#y_pred = mlp.predict(Xtest)\n",
    "#print('MSE: ', mean_squared_error(y_pred, ytest))\n",
    "\n",
    "# 4. Fitness function\n",
    "def fitness(solution, solution_idx):\n",
    "    sol = solution.reshape((1,4))\n",
    "    y_pred = mlp.predict(sol)\n",
    "    fitness = mean_squared_error(y_pred[:,prune], exp_target)\n",
    "    return fitness"
   ]
  },
  {
   "cell_type": "code",
   "execution_count": 101,
   "id": "b5f56522-ad67-4cf6-a598-84955bb1bd59",
   "metadata": {},
   "outputs": [],
   "source": [
    "reducer = umap.UMAP()\n",
    "X2D = reducer.fit_transform(X)\n",
    "x1, x2 = np.meshgrid(X2D[:,0], X2D[:,1])\n",
    "Z = np.array([fitness(sol,0) for sol in X]).reshape(1,-1)"
   ]
  },
  {
   "cell_type": "code",
   "execution_count": 102,
   "id": "2f043ff4-af38-480c-862e-bfd198719e9b",
   "metadata": {},
   "outputs": [
    {
     "data": {
      "image/png": "[encoded data removed]",
      "text/plain": [
       "<Figure size 864x864 with 1 Axes>"
      ]
     },
     "metadata": {
      "needs_background": "light"
     },
     "output_type": "display_data"
    }
   ],
   "source": [
    "fig, ax = plt.subplots(figsize=(12,12), subplot_kw={\"projection\": \"3d\"})\n",
    "surf = ax.plot_surface(x2,x1, Z, cmap=cm.coolwarm,\n",
    "                       linewidth=0, antialiased=False)"
   ]
  },
  {
   "cell_type": "markdown",
   "id": "c8a65977-86cb-470c-bc68-8cf3594268e3",
   "metadata": {},
   "source": [
    "### 1.2 Optimize on response surface"
   ]
  },
  {
   "cell_type": "code",
   "execution_count": 18,
   "id": "967932fb-b622-4a67-9a3a-d43d75b7174a",
   "metadata": {},
   "outputs": [],
   "source": [
    "# Initialize Optimizer\n",
    "num_generations = 50 # Number of generations.\n",
    "num_parents_mating = 250 # Number of solutions to be selected as parents in the mating pool.\n",
    "sol_per_pop = 500 # Number of solutions in the population.\n",
    "num_genes = 4\n",
    "gene_space = [\n",
    "    {'low': 100, 'high': 120, 'step': 1},  # tau\n",
    "    {'low': 230, 'high': 250, 'step': 1},  # taucs\n",
    "    {'low': 600, 'high': 800, 'step': 50}, # h0\n",
    "    {'low': 3, 'high': 5, 'step': 1}]      # alpha\n",
    "last_fitness = 0\n",
    "keep_parents = 1\n",
    "crossover_type = \"single_point\"\n",
    "mutation_type = \"random\"\n",
    "mutation_percent_genes = 25\n",
    "\n",
    "def on_generation(ga_instance):\n",
    "    global last_fitness\n",
    "    generation = ga_instance.generations_completed\n",
    "    fitness = ga_instance.best_solution(pop_fitness=ga_instance.last_generation_fitness)[1]\n",
    "    change = ga_instance.best_solution(pop_fitness=ga_instance.last_generation_fitness)[1] - last_fitness\n",
    "    last_fitness = ga_instance.best_solution(pop_fitness=ga_instance.last_generation_fitness)[1]\n",
    "\n",
    "# Running the GA Optimization to optimize the parameters of the function.\n",
    "ga_instance = pygad.GA(num_generations=num_generations,\n",
    "                       num_parents_mating=num_parents_mating,\n",
    "                       sol_per_pop=sol_per_pop,\n",
    "                       num_genes=num_genes,\n",
    "                       fitness_func=fitness,\n",
    "                       on_generation=on_generation,\n",
    "                       gene_space=gene_space,\n",
    "                       crossover_type=crossover_type,\n",
    "                       mutation_type=mutation_type,\n",
    "                       mutation_percent_genes=mutation_percent_genes)\n",
    "ga_instance.run()"
   ]
  },
  {
   "cell_type": "markdown",
   "id": "11f3f65e-a22f-4fd2-a9ed-2233f6067e8e",
   "metadata": {},
   "source": [
    "### 1.3 Evaluate Optimization"
   ]
  },
  {
   "cell_type": "code",
   "execution_count": 19,
   "id": "c1715988-a99b-4532-b489-46901ce730a9",
   "metadata": {},
   "outputs": [
    {
     "data": {
      "image/png": "[encoded data removed]",
      "text/plain": [
       "<Figure size 432x288 with 1 Axes>"
      ]
     },
     "metadata": {
      "needs_background": "light"
     },
     "output_type": "display_data"
    },
    {
     "name": "stdout",
     "output_type": "stream",
     "text": [
      "Parameters of the best solution : [118. 238. 600.   4.]\n",
      "Real solution parameters: [120 230 600   5]\n",
      "Fitness value of the best solution = 0.033311293060607115\n",
      "Index of the best solution : 0\n",
      "MSE of the best solution : 30.019849370019454\n",
      "Best fitness value reached after 2 generations.\n"
     ]
    }
   ],
   "source": [
    "ga_instance.plot_fitness()\n",
    "\n",
    "def output_results(ga_instance):\n",
    "    # Returning the details of the best solution in a dictionary.\n",
    "    solution, solution_fitness, solution_idx = ga_instance.best_solution(ga_instance.last_generation_fitness)\n",
    "    best_solution_generation = ga_instance.best_solution_generation\n",
    "    prediction = mlp.predict(solution.reshape((1,4)))\n",
    "    loss = mean_squared_error(prediction, ytest)\n",
    "    values = (solution, solution_fitness, solution_idx, best_solution_generation, prediction, loss)\n",
    "    keys = (\"solution\", \"solution_fitness\", \"solution_idx\", \"best_solution_generation\", \"prediction\", \"loss\")\n",
    "    output = dict(zip(keys, values))\n",
    "    return output\n",
    "\n",
    "def print_results(results):\n",
    "    print(f\"Parameters of the best solution : {results['solution']}\")\n",
    "    print(f\"Real solution parameters: {Xtest[0]}\") # To be removed after testing\n",
    "    print(f\"Fitness value of the best solution = {results['solution_fitness']}\")\n",
    "    print(f\"Index of the best solution : {results['solution_idx']}\")\n",
    "    print(f\"MSE of the best solution : {results['loss']}\")\n",
    "    print(f\"Best fitness value reached after {results['best_solution_generation']} generations.\")\n",
    "    \n",
    "results = output_results(ga_instance)\n",
    "loss = results['loss']\n",
    "print_results(results)"
   ]
  },
  {
   "cell_type": "markdown",
   "id": "bed378de-260d-49fe-ab4a-92cc4f2ded97",
   "metadata": {},
   "source": [
    "## 2. Iterative Process"
   ]
  },
  {
   "cell_type": "code",
   "execution_count": null,
   "id": "41a91615-27b9-451e-b3f2-47bff052dd0a",
   "metadata": {},
   "outputs": [],
   "source": [
    "while loss > epsilon:\n",
    "    (true_strain, stress) = sim.run_single_test(solution)\n",
    "    mlp.partial_fit(np.array(solution), stress)\n",
    "    ga_instance.run()\n",
    "    results = output_results(ga_instance)\n",
    "    print_results(results)\n",
    "    loss = results[\"loss\"]\n",
    "\n",
    "print(\"--------------------\")\n",
    "print(\"Final Parameters: \", results['solution'])\n",
    "print(\"--------------------\")"
   ]
  }
 ],
 "metadata": {
  "kernelspec": {
   "display_name": "Python 3",
   "language": "python",
   "name": "python3"
  },
  "language_info": {
   "codemirror_mode": {
    "name": "ipython",
    "version": 3
   },
   "file_extension": ".py",
   "mimetype": "text/x-python",
   "name": "python",
   "nbconvert_exporter": "python",
   "pygments_lexer": "ipython3",
   "version": "3.8.8"
  }
 },
 "nbformat": 4,
 "nbformat_minor": 5
}
