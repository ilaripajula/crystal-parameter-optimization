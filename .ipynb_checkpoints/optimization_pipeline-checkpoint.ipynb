{
 "cells": [
  {
   "cell_type": "markdown",
   "id": "71df37a5-38b0-4e36-bbb0-0e47c8834a89",
   "metadata": {},
   "source": [
    "# Optimization Pipeline"
   ]
  },
  {
   "cell_type": "code",
   "execution_count": null,
   "id": "36557cd3-19c3-4745-a11a-6bcceeb732ef",
   "metadata": {},
   "outputs": [],
   "source": [
    "# External libraries\n",
    "import pandas as pd\n",
    "import numpy as np\n",
    "import pygad\n",
    "import matplotlib.pyplot as plt\n",
    "from sklearn.neural_network import MLPRegressor\n",
    "from sklearn.model_selection import train_test_split\n",
    "from sklearn.metrics import mean_squared_error\n",
    "\n",
    "\n",
    "# Our classes\n",
    "from optimization_pipeline.SIM import SIM\n",
    "from optimization_pipeline.preprocessing import preprocess\n",
    "from optimization_pipeline.preprocessing import save_outputs"
   ]
  },
  {
   "cell_type": "code",
   "execution_count": null,
   "id": "607c0318-9b34-4cfd-a367-6a5f3176cd7c",
   "metadata": {},
   "outputs": [],
   "source": [
    "epsilon = 0.5\n",
    "simulations = {}\n",
    "\n",
    "def return_simulation(params):\n",
    "    sim.edit_material_params(params)\n",
    "    sim.run()\n",
    "    filename = '_'.join(str(p) for p in params) + '.txt'\n",
    "    (true_strain, stress) = save_single_output('./postProc/', filename)\n",
    "    return (true_strain, stress)"
   ]
  },
  {
   "cell_type": "markdown",
   "id": "19e5c199-01aa-4343-ac53-a54873c89138",
   "metadata": {},
   "source": [
    "## Initialization"
   ]
  },
  {
   "cell_type": "markdown",
   "id": "f0794cd8-f1ce-4e91-8892-a904c2232ddc",
   "metadata": {},
   "source": [
    "### 1.1 Setup response surface"
   ]
  },
  {
   "cell_type": "code",
   "execution_count": null,
   "id": "30804125-1f4b-49de-97db-f5bc029a0d1a",
   "metadata": {},
   "outputs": [],
   "source": [
    "# 1. Run simulations.\n",
    "# sim.run_n_random_tests(10)\n",
    "\n",
    "# 2. Run preprocessing for optimization\n",
    "initial_response_values = save_outputs(directory = './experimental_data/', save_to = './flowcurves/')"
   ]
  },
  {
   "cell_type": "code",
   "execution_count": null,
   "id": "4025d59b-7186-483c-ab02-c10a5785828e",
   "metadata": {},
   "outputs": [],
   "source": [
    "# 3. Initalize and fit response surface\n",
    "y = np.array([stress for (_, stress) in initial_response_values.values()])\n",
    "X = np.array(list(initial_response_values.keys()))\n",
    "# Save a single output to be used as ytest, to test if we can converge to it.\n",
    "Xtrain, Xtest, ytrain, ytest = train_test_split(X, y, train_size=8/9, shuffle=True)\n",
    "mlp = MLPRegressor(hidden_layer_sizes=[15,30], solver='adam', max_iter=100000, max_fun=150000, shuffle=True)\n",
    "mlp.fit(Xtrain, ytrain)\n",
    "y_pred = mlp.predict(Xtest)\n",
    "print('MSE: ', mean_squared_error(y_pred, ytest))\n",
    "\n",
    "# 4. Fitness function\n",
    "def fitness(solution, solution_idx):\n",
    "    sol = solution.reshape((1,4))\n",
    "    y_pred = mlp.predict(sol)\n",
    "    fitness = 1 / mean_squared_error(y_pred, ytest)\n",
    "    return fitness"
   ]
  },
  {
   "cell_type": "markdown",
   "id": "c8a65977-86cb-470c-bc68-8cf3594268e3",
   "metadata": {},
   "source": [
    "### 1.2 Optimize on response surface"
   ]
  },
  {
   "cell_type": "code",
   "execution_count": null,
   "id": "967932fb-b622-4a67-9a3a-d43d75b7174a",
   "metadata": {},
   "outputs": [],
   "source": [
    "# Initialize Optimizer\n",
    "num_generations = 25 # Number of generations.\n",
    "num_parents_mating = 250 # Number of solutions to be selected as parents in the mating pool.\n",
    "sol_per_pop = 500 # Number of solutions in the population.\n",
    "num_genes = 4\n",
    "gene_space = [\n",
    "    {'low': 100, 'high': 120, 'step': 1},  # tau\n",
    "    {'low': 230, 'high': 250, 'step': 1},  # taucs\n",
    "    {'low': 600, 'high': 800, 'step': 50}, # h0\n",
    "    {'low': 3, 'high': 5, 'step': 1}]      # alpha\n",
    "last_fitness = 0\n",
    "keep_parents = 1\n",
    "crossover_type = \"single_point\"\n",
    "mutation_type = \"random\"\n",
    "mutation_percent_genes = 25\n",
    "\n",
    "def on_generation(ga_instance):\n",
    "    global last_fitness\n",
    "    generation = ga_instance.generations_completed\n",
    "    fitness = ga_instance.best_solution(pop_fitness=ga_instance.last_generation_fitness)[1]\n",
    "    change = ga_instance.best_solution(pop_fitness=ga_instance.last_generation_fitness)[1] - last_fitness\n",
    "    last_fitness = ga_instance.best_solution(pop_fitness=ga_instance.last_generation_fitness)[1]\n",
    "\n",
    "# Running the GA Optimization to optimize the parameters of the function.\n",
    "ga_instance = pygad.GA(num_generations=num_generations,\n",
    "                       num_parents_mating=num_parents_mating,\n",
    "                       sol_per_pop=sol_per_pop,\n",
    "                       num_genes=num_genes,\n",
    "                       fitness_func=fitness,\n",
    "                       on_generation=on_generation,\n",
    "                       gene_space=gene_space,\n",
    "                       crossover_type=crossover_type,\n",
    "                       mutation_type=mutation_type,\n",
    "                       mutation_percent_genes=mutation_percent_genes)\n",
    "ga_instance.run()"
   ]
  },
  {
   "cell_type": "markdown",
   "id": "11f3f65e-a22f-4fd2-a9ed-2233f6067e8e",
   "metadata": {},
   "source": [
    "### 1.3 Evaluate Optimization"
   ]
  },
  {
   "cell_type": "code",
   "execution_count": null,
   "id": "c1715988-a99b-4532-b489-46901ce730a9",
   "metadata": {},
   "outputs": [],
   "source": [
    "ga_instance.plot_fitness()\n",
    "\n",
    "def output_results(ga_instance):\n",
    "    # Returning the details of the best solution in a dictionary.\n",
    "    solution, solution_fitness, solution_idx = ga_instance.best_solution(ga_instance.last_generation_fitness)\n",
    "    best_solution_generation = ga_instance.best_solution_generation\n",
    "    prediction = mlp.predict(solution.reshape((1,4)))\n",
    "    loss = mean_squared_error(prediction, ytest)\n",
    "    values = (solution, solution_fitness, solution_idx, best_solution_generation, prediction, loss)\n",
    "    keys = (\"solution\", \"solution_fitness\", \"solution_idx\", \"best_solution_generation\", \"prediction\", \"loss\")\n",
    "    output = dict(zip(keys, values))\n",
    "    return output\n",
    "\n",
    "def print_results(results):\n",
    "    print(f\"Parameters of the best solution : {results['solution']}\")\n",
    "    print(f\"Real solution parameters: {Xtest[0]}\") # To be removed after testing\n",
    "    print(f\"Fitness value of the best solution = {results['solution_fitness']}\")\n",
    "    print(f\"Index of the best solution : {results['solution_idx']}\")\n",
    "    print(f\"MSE of the best solution : {results['loss']}\")\n",
    "    print(f\"Best fitness value reached after {results['best_solution_generation']} generations.\")\n",
    "    \n",
    "results = output_results(ga_instance)\n",
    "loss = results['loss']\n",
    "print_results(results)"
   ]
  },
  {
   "cell_type": "markdown",
   "id": "bed378de-260d-49fe-ab4a-92cc4f2ded97",
   "metadata": {},
   "source": [
    "## 2. Iterative Process"
   ]
  },
  {
   "cell_type": "code",
   "execution_count": null,
   "id": "07c789b4-f549-4ce2-9da9-129119af705a",
   "metadata": {},
   "outputs": [],
   "source": [
    "while loss > epsilon:\n",
    "    (true_strain, stress) = return_simulation(solution)\n",
    "    mlp.partial_fit(np.array(solution), stress)\n",
    "    ga_instance.run()\n",
    "    results = output_results(ga_instance)\n",
    "    print_results(results)\n",
    "    loss = results[\"loss\"]\n",
    "\n",
    "print(\"--------------------\")\n",
    "print(\"Final Parameters: \", results['solution'])\n",
    "print(\"--------------------\")"
   ]
  }
 ],
 "metadata": {
  "kernelspec": {
   "display_name": "Python 3",
   "language": "python",
   "name": "python3"
  },
  "language_info": {
   "codemirror_mode": {
    "name": "ipython",
    "version": 3
   },
   "file_extension": ".py",
   "mimetype": "text/x-python",
   "name": "python",
   "nbconvert_exporter": "python",
   "pygments_lexer": "ipython3",
   "version": "3.8.8"
  }
 },
 "nbformat": 4,
 "nbformat_minor": 5
}
