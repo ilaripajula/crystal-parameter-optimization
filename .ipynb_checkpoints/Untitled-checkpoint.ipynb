{
 "cells": [
  {
   "cell_type": "code",
   "execution_count": 1,
   "id": "afe31b05-e3db-4e47-a89a-cd1ab63f83aa",
   "metadata": {},
   "outputs": [],
   "source": [
    "import os\n",
    "import numpy as np\n",
    "import shutil"
   ]
  },
  {
   "cell_type": "code",
   "execution_count": null,
   "id": "86a09196-f105-42dd-9f99-fcb9b0c1bc97",
   "metadata": {},
   "outputs": [],
   "source": [
    "def make_new_job(params, path):\n",
    "    shutil.copytree('./TEMPLATE', path)\n",
    "    edit_material_parameters\n",
    "    \n",
    "def edit_material_parameters(self, params, job_path):\n",
    "    # Edit the material.config file.\n",
    "    def tau0_edit(num):\n",
    "        return f'tau0_slip               {num} {num}        # per family\\n'\n",
    "\n",
    "    def tausat_edit(num):\n",
    "        return f'tausat_slip             {num} {num}       # per family\\n'\n",
    "\n",
    "    def h0_edit(num):\n",
    "        return f'h0_slipslip             {num}\\n'\n",
    "\n",
    "    def a_edit(num):\n",
    "        return f'a_slip                  {num}\\n'\n",
    "\n",
    "    path = f'{job_path}/material.config'\n",
    "    with open(path) as f:\n",
    "        lines = f.readlines()\n",
    "\n",
    "    lines[36] = tau0_edit(params[0])\n",
    "    lines[37] = tausat_edit(params[1])\n",
    "    lines[46] = h0_edit(params[2])\n",
    "    lines[54] = a_edit(params[3])\n",
    "\n",
    "    with open(f'{job_path}/material.config', 'w') as f:\n",
    "        f.writelines(lines)"
   ]
  }
 ],
 "metadata": {
  "kernelspec": {
   "display_name": "Python 3",
   "language": "python",
   "name": "python3"
  },
  "language_info": {
   "codemirror_mode": {
    "name": "ipython",
    "version": 3
   },
   "file_extension": ".py",
   "mimetype": "text/x-python",
   "name": "python",
   "nbconvert_exporter": "python",
   "pygments_lexer": "ipython3",
   "version": "3.8.8"
  }
 },
 "nbformat": 4,
 "nbformat_minor": 5
}
