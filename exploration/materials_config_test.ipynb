{
 "cells": [
  {
   "cell_type": "markdown",
   "id": "92105a86-14b5-4d6d-8bbc-dfa8e2ec4296",
   "metadata": {},
   "source": [
    "## Edit Materials Config. File"
   ]
  },
  {
   "cell_type": "code",
   "execution_count": null,
   "id": "515ee8a4-6344-4fc9-a77a-cbd3a3baf9a8",
   "metadata": {},
   "outputs": [],
   "source": [
    "def edit_material_parameters(params):\n",
    "    # Edit the material.config file.\n",
    "    def tau0_edit(num):\n",
    "        return f'tau0_slip               {num} {num}        # per family\\n'\n",
    "\n",
    "    def tausat_edit(num):\n",
    "        return f'tausat_slip             {num} {num}       # per family\\n'\n",
    "\n",
    "    def h0_edit(num):\n",
    "        return f'h0_slipslip             {num}\\n'\n",
    "\n",
    "    def a_edit(num):\n",
    "        return f'a_slip                  {num}\\n'\n",
    "\n",
    "    path = './material.config'\n",
    "    with open(path) as f:\n",
    "        lines = f.readlines()\n",
    "\n",
    "    lines[36] = tau0_edit(params[0])\n",
    "    lines[37] = tausat_edit(params[1])\n",
    "    lines[46] = h0_edit(params[2])\n",
    "    lines[54] = a_edit(params[3])\n",
    "\n",
    "    with open('material.config', 'w') as f:\n",
    "        f.writelines(lines)"
   ]
  },
  {
   "cell_type": "code",
   "execution_count": null,
   "id": "5eadddb6-dd2e-4627-a886-758dc5f0fb4c",
   "metadata": {},
   "outputs": [],
   "source": [
    "edit_material_parameters([10,10,10,100])"
   ]
  },
  {
   "cell_type": "markdown",
   "id": "677e39a4-90f3-46c5-ba73-cb13f641325c",
   "metadata": {},
   "source": [
    "## Driver for CSC "
   ]
  },
  {
   "cell_type": "code",
   "execution_count": null,
   "id": "6df9cbbc-62d9-4445-8ee7-8efe1769205d",
   "metadata": {},
   "outputs": [],
   "source": [
    "import random\n",
    "import shutil\n",
    "\n",
    "no_errors = True\n",
    "simulations = 0\n",
    "\n",
    "while(no_errors and simulations < 1):\n",
    "    params = [random.randrange(100, 120+1, 1),\n",
    "              random.randrange(230, 250+1, 1),\n",
    "              random.randrange(600, 800+50, 50),\n",
    "              random.randrange(3, 5+0.1, 0.1)]\n",
    "    edit_material_parameters(params)\n",
    "    no_errors = bool(run())\n",
    "    simulations += 1\n",
    "    filename = '_'.join(str(p) for p in params) + '.txt'\n",
    "    shutil.copy2(f'postProc/512grains512_tensionX.txt', 'postProc/{filename}')"
   ]
  },
  {
   "cell_type": "code",
   "execution_count": null,
   "id": "98d43052-6a8d-48b1-87f4-e0c2638aa185",
   "metadata": {},
   "outputs": [],
   "source": []
  }
 ],
 "metadata": {
  "kernelspec": {
   "display_name": "Python 3",
   "language": "python",
   "name": "python3"
  },
  "language_info": {
   "codemirror_mode": {
    "name": "ipython",
    "version": 3
   },
   "file_extension": ".py",
   "mimetype": "text/x-python",
   "name": "python",
   "nbconvert_exporter": "python",
   "pygments_lexer": "ipython3",
   "version": "3.8.8"
  }
 },
 "nbformat": 4,
 "nbformat_minor": 5
}
