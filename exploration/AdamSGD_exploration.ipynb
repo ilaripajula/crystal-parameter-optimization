{
 "cells": [
  {
   "cell_type": "markdown",
   "id": "f062b909-4b79-4161-9a8d-a5158fded783",
   "metadata": {},
   "source": [
    "# SGD & Adam Algorithm with PyTorch\n",
    "Testing with 4 parameter Gear Function"
   ]
  },
  {
   "cell_type": "code",
   "execution_count": null,
   "id": "267fd2a4-cbc7-4c0b-9cee-bfd21826e824",
   "metadata": {},
   "outputs": [],
   "source": [
    "import torch\n",
    "from torch.optim import Adam"
   ]
  },
  {
   "cell_type": "code",
   "execution_count": null,
   "id": "14c2327f-d57a-43ac-ad96-0e7fa126abc2",
   "metadata": {},
   "outputs": [],
   "source": [
    "max_iter = 100\n",
    "step = 0\n",
    "target = 2.7e12\n",
    "\n",
    "def loss_fn(output,target):\n",
    "    \"\"\"\n",
    "    Gear Function \n",
    "    http://infinity77.net/global_optimization/test_functions_nd_G.html#go_benchmark.Gear\n",
    "    \"\"\"\n",
    "    output = torch.floor(output)\n",
    "    output = (1.0/6.931 - (output[0]*output[1])/(output[2]*output[3]))**2\n",
    "    return torch.abs(output - target)\n",
    "\n",
    "params = torch.autograd.Variable(torch.tensor([20.0,20.0,20.0,20.0]), requires_grad=True)\n",
    "with torch.no_grad():\n",
    "    params[:] = params.clamp(4, 60)\n",
    "\n",
    "optimizer = Adam([params], lr=0.001)\n",
    "loss = 1\n",
    "\n",
    "while(loss > 0.001 and step < max_iter):\n",
    "    optimizer.zero_grad()\n",
    "    loss = loss_fn(params, target)\n",
    "    loss.backward()\n",
    "    optimizer.step()\n",
    "    step += 1\n",
    "    print(step)\n",
    "    print(optimizer.state_dict())"
   ]
  },
  {
   "cell_type": "code",
   "execution_count": null,
   "id": "fc4949a1-465e-49b6-ab61-f758fd616930",
   "metadata": {},
   "outputs": [],
   "source": []
  }
 ],
 "metadata": {
  "kernelspec": {
   "display_name": "Python 3",
   "language": "python",
   "name": "python3"
  },
  "language_info": {
   "codemirror_mode": {
    "name": "ipython",
    "version": 3
   },
   "file_extension": ".py",
   "mimetype": "text/x-python",
   "name": "python",
   "nbconvert_exporter": "python",
   "pygments_lexer": "ipython3",
   "version": "3.8.8"
  }
 },
 "nbformat": 4,
 "nbformat_minor": 5
}
