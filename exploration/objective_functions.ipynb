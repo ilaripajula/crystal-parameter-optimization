{
 "cells": [
  {
   "cell_type": "code",
   "execution_count": 1,
   "metadata": {},
   "outputs": [],
   "source": [
    "import pandas as pd\n",
    "import numpy as np\n",
    "import matplotlib.pyplot as plt\n",
    "import math\n",
    "from sklearn.metrics import mean_squared_error\n",
    "from scipy.interpolate import interp1d\n",
    "from sklearn import preprocessing\n"
   ]
  },
  {
   "cell_type": "code",
   "execution_count": 2,
   "metadata": {},
   "outputs": [],
   "source": [
    "df = pd.read_csv('ss_curves.csv')\n",
    "df1 = pd.read_csv(\"case1.csv\", skiprows = 2)"
   ]
  },
  {
   "cell_type": "code",
   "execution_count": 33,
   "metadata": {},
   "outputs": [
    {
     "ename": "ValueError",
     "evalue": "too many values to unpack (expected 4)",
     "output_type": "error",
     "traceback": [
      "\u001b[1;31m---------------------------------------------------------------------------\u001b[0m",
      "\u001b[1;31mValueError\u001b[0m                                Traceback (most recent call last)",
      "\u001b[1;32m<ipython-input-33-8a2aec33b376>\u001b[0m in \u001b[0;36m<module>\u001b[1;34m\u001b[0m\n\u001b[0;32m     52\u001b[0m     \u001b[1;32mreturn\u001b[0m \u001b[0mout\u001b[0m\u001b[1;33m\u001b[0m\u001b[1;33m\u001b[0m\u001b[0m\n\u001b[0;32m     53\u001b[0m \u001b[1;33m\u001b[0m\u001b[0m\n\u001b[1;32m---> 54\u001b[1;33m \u001b[0mexp_stress\u001b[0m\u001b[1;33m,\u001b[0m \u001b[0msim_stresses\u001b[0m\u001b[1;33m,\u001b[0m \u001b[0mstrainobj\u001b[0m\u001b[1;33m,\u001b[0m \u001b[0mlabels\u001b[0m \u001b[1;33m=\u001b[0m \u001b[0mpreprocess\u001b[0m\u001b[1;33m(\u001b[0m\u001b[0mdf\u001b[0m\u001b[1;33m)\u001b[0m\u001b[1;33m\u001b[0m\u001b[1;33m\u001b[0m\u001b[0m\n\u001b[0m\u001b[0;32m     55\u001b[0m \u001b[1;33m\u001b[0m\u001b[0m\n\u001b[0;32m     56\u001b[0m \u001b[0msigma_hats\u001b[0m \u001b[1;33m=\u001b[0m \u001b[0msim_stresses\u001b[0m\u001b[1;33m\u001b[0m\u001b[1;33m\u001b[0m\u001b[0m\n",
      "\u001b[1;31mValueError\u001b[0m: too many values to unpack (expected 4)"
     ]
    }
   ],
   "source": [
    "def format_curve(sim_stress, sim_strain):\n",
    "    prune = np.logical_and(sim_strain > x_min, sim_strain < x_max)\n",
    "    sim_stress = sim_stress[prune]\n",
    "    sim_strain = sim_strain[prune]\n",
    "    exp_stress_intrpl = f(sim_strain)\n",
    "    return exp_stress_intrpl\n",
    "\n",
    "def preprocess_case1(df):\n",
    "    stress = np.array([df[col] for col in df.columns if \"MPa\" in col])\n",
    "    strain = np.array([df[col] for col in df.columns if \"plastic\" in col])\n",
    "    labels = [\"Experimental\"] + [f\"Simulated {i}\" for i in range(1, len(stress)+1)]\n",
    "    print(stress.shape, strain.shape)\n",
    "    plot(stress, strain, labels)\n",
    "    # Cut the excess values above and below the experimental values.\n",
    "    exp_strain = np.nan_to_num(strain[0])\n",
    "    x_min, x_max = 0.005, exp_strain.max() # !!! CHANGED to 0.005 and rerun\n",
    "    f = interp1d(exp_strain, stress[0])\n",
    "    x_y = []\n",
    "    for (sim_strain, sim_stress) in zip(strain[1:,:],stress[1:,:]):\n",
    "        # Indices to prune simulated curves by\n",
    "        prune = np.logical_and(sim_strain > x_min, sim_strain < x_max)\n",
    "        sim_stress = sim_stress[prune]\n",
    "        sim_strain = sim_strain[prune]\n",
    "        # Linear Interpolation\n",
    "        exp_stress = f(sim_strain) # The target curve\n",
    "        x_y.append(tuple((sim_strain, sim_stress, exp_stress)))\n",
    "    return x_y\n",
    "        \n",
    "def getTruePlasticStrain(strain, stress):\n",
    "    # Getting the slope\n",
    "    slope = (stress[1] - stress[0]) / (strain[1] - strain[0])\n",
    "    true_plastic_strain = strain - stress / slope\n",
    "    return true_plastic_strain\n",
    "\n",
    "def preprocess(df): # Case 2\n",
    "    stress = np.array([df[col] for col in df.columns if \"stress\" in col])\n",
    "    strain = np.array([df[col] for col in df.columns if \"strain\" in col])\n",
    "    labels = [\"Experimental\"] + [f\"Simulated {i}\" for i in range(1, len(stress)+1)]\n",
    "\n",
    "    # Cut the excess values above and below the experimental values.\n",
    "    exp_strain = strain[0]\n",
    "    x_min, x_max = 0.002, exp_strain.max()\n",
    "    prune = np.logical_and(strain[1] > x_min, strain[1] < x_max)  # Indices to prune simulated curves by\n",
    "    sim_stress = stress[1:][:, prune]\n",
    "    sim_strain = strain[1:][:, prune]\n",
    "    # Linear Interpolation\n",
    "    f = interp1d(exp_strain, stress[0])\n",
    "    exp_stress = f(sim_strain[0]) # The target curve\n",
    "    out = []\n",
    "    for (stress, strain) in zip(sim_stress, sim_strain):\n",
    "        out.append((strain, stress, exp_stress))\n",
    "    return out\n",
    "\n",
    "\n",
    "def plot(stress, strain, label):\n",
    "    plt.figure(figsize=(20,12))\n",
    "    for x,y,label in zip(strain,stress,label):\n",
    "        plt.plot(x, y, label=label)\n",
    "    plt.xlim([0,0.075])\n",
    "    plt.ylim([0,2000])\n",
    "    plt.vlines(strain[0].max(), 0, 1100, linestyle='dotted')\n",
    "    plt.legend()\n",
    "    plt.show()\n",
    "    \n",
    "def elastic(stress, strain, trueStrain):\n",
    "\n",
    "    # Obtain the elastic stress and strain based on r-squared\n",
    "\n",
    "    trimValue = np.arange(0.001, 0.02, 0.00001)\n",
    "    trimValue = np.flip(trimValue)\n",
    "    r2 = 0.00\n",
    "    elasticTrueStrain = trueStrain\n",
    "    elasticStrain = strain\n",
    "    elasticStress = stress\n",
    "    while(r2 <= 0.95):\n",
    "        for x in trimValue:\n",
    "            val = np.argmax(strain >= x)\n",
    "            elasticTrueStrain = trueStrain[0:val]\n",
    "            elasticStrain = strain[0:val]\n",
    "            elasticStress = stress[0:val]\n",
    "            r2 = adjR(elasticStrain, elasticStress, 1)\n",
    "\n",
    "\n",
    "    return elasticStress, elasticStrain, elasticTrueStrain\n",
    "\n",
    "\n",
    "def adjR(x, y, degree):\n",
    "    results = []\n",
    "    coeffs = np.polyfit(x, y, degree)\n",
    "    p = np.poly1d(coeffs)\n",
    "    yhat = p(x)\n",
    "    ybar = np.sum(y)/len(y)\n",
    "    ssreg = np.sum((yhat-ybar)**2)\n",
    "    sstot = np.sum((y - ybar)**2)\n",
    "    results = 1- (((1-(ssreg/sstot))*(len(y)-1))/(len(y)-degree-1))\n",
    "    return results\n"
   ]
  },
  {
   "cell_type": "code",
   "execution_count": 34,
   "metadata": {},
   "outputs": [],
   "source": [
    "#x_ysim_yexp = preprocess_case1(df1)\n",
    "x_ysim_yexp = preprocess(df)"
   ]
  },
  {
   "cell_type": "code",
   "execution_count": 35,
   "metadata": {},
   "outputs": [
    {
     "data": {
      "text/plain": [
       "[344, 344, 344, 344, 344, 344, 344]"
      ]
     },
     "execution_count": 35,
     "metadata": {},
     "output_type": "execute_result"
    }
   ],
   "source": [
    "[len(x) for x,_,_ in x_ysim_yexp]"
   ]
  },
  {
   "cell_type": "code",
   "execution_count": 40,
   "metadata": {},
   "outputs": [],
   "source": [
    "# D1 loss function: L2 loss \n",
    "def D1(exp_stress, sim_stress): \n",
    "    return np.sqrt(np.sum(np.square(exp_stress - sim_stress))/np.sum(np.square(exp_stress)))\n",
    "\n",
    "def D2(exp_stress, sim_stress, strainobj): # Added strainobj as an input\n",
    "    exp_stress_d1 = np.diff(exp_stress)/np.diff(strainobj)  \n",
    "    sim_stress_d1 = np.diff(sim_stress)/np.diff(strainobj)\n",
    "    return np.sqrt(np.sum(np.square(sim_stress_d1 - exp_stress_d1))/np.sum(np.square(exp_stress_d1)))\n",
    "\n",
    "def D3(exp_stress, sim_stress):\n",
    "    return np.max(np.sqrt(np.square(exp_stress - sim_stress)/sum(np.square(exp_stress))))\n",
    "\n",
    "def D4(exp_stress, sim_stress, strainobj):\n",
    "    exp_stress_d1 = np.diff(exp_stress)/np.diff(strainobj)\n",
    "    sim_stress_d1 = np.diff(sim_stress)/np.diff(strainobj)\n",
    "    return max(np.sqrt(np.square(sim_stress_d1 - exp_stress_d1)/np.sum(np.square(exp_stress_d1))))\n",
    "\n",
    "def fitness(exp_stress, sim_stress,strainobj, w1, w2, w3, w4):\n",
    "    return ( w1*D1(exp_stress, sim_stress) + w2*D2(exp_stress, sim_stress, strainobj) \n",
    "            + w3*D3(exp_stress, sim_stress) + w4*D4(exp_stress, sim_stress, strainobj))\n",
    "\n",
    "# Testing on every index of sigma_hats\n",
    "resD1 = []\n",
    "resD2 = []\n",
    "resD3 = []\n",
    "resD4 = []\n",
    "res_fit = []\n",
    "\n",
    "w1 = 0.9\n",
    "w2 = 0.001\n",
    "w4 = 0.001\n",
    "w3 = 1 - w1 - w2 - w4\n",
    "\n",
    "for (strain, sim_stress, exp_stress) in x_ysim_yexp:\n",
    "    resD1.append(D1(exp_stress, sim_stress))\n",
    "    resD2.append(D2(exp_stress, sim_stress, strain))\n",
    "    resD3.append(D3(exp_stress, sim_stress))\n",
    "    resD4.append(D4(exp_stress, sim_stress, strain))\n",
    "    res_fit.append(fitness(exp_stress, sim_stress, strain, w1, w2, w3, w4))"
   ]
  },
  {
   "cell_type": "code",
   "execution_count": 41,
   "metadata": {},
   "outputs": [
    {
     "data": {
      "image/png": "[encoded data removed]",
      "text/plain": [
       "<Figure size 864x432 with 1 Axes>"
      ]
     },
     "metadata": {
      "needs_background": "light"
     },
     "output_type": "display_data"
    }
   ],
   "source": [
    "labels = ['S1', 'S2', 'S3', 'S4', 'S5', 'S6', 'S7']\n",
    "\n",
    "width = 0.55       # the width of the bars: can also be len(x) sequence\n",
    "\n",
    "fig, ax = plt.subplots(figsize=(12,6))\n",
    "L1 = np.array(resD1)*w1\n",
    "L2 = np.array(resD2)*w2\n",
    "L3 = np.array(resD3)*w3\n",
    "L4 = np.array(resD4)*w4\n",
    "\n",
    "ax.bar(labels, L1, width, label='D1')\n",
    "ax.bar(labels, L2, width, bottom=L1 , label='D2')\n",
    "ax.bar(labels, L3, width, bottom=L1+L2, label='D3')\n",
    "ax.bar(labels, L4, width, bottom=L1+L2+L3, label='D4')\n",
    "\n",
    "ax.set_ylabel('Loss')\n",
    "ax.set_title('Objective Function Results')\n",
    "ax.legend()\n",
    "\n",
    "plt.show()"
   ]
  },
  {
   "cell_type": "code",
   "execution_count": null,
   "metadata": {},
   "outputs": [],
   "source": []
  }
 ],
 "metadata": {
  "kernelspec": {
   "display_name": "Python 3",
   "language": "python",
   "name": "python3"
  },
  "language_info": {
   "codemirror_mode": {
    "name": "ipython",
    "version": 3
   },
   "file_extension": ".py",
   "mimetype": "text/x-python",
   "name": "python",
   "nbconvert_exporter": "python",
   "pygments_lexer": "ipython3",
   "version": "3.8.8"
  }
 },
 "nbformat": 4,
 "nbformat_minor": 4
}
