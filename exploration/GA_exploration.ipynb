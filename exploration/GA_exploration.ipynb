{
 "cells": [
  {
   "cell_type": "markdown",
   "id": "f975be5e-4f0c-470c-b724-498b98ca1a08",
   "metadata": {},
   "source": [
    "# Genetic Algorithm with PyGAD\n",
    "Testing with 4 parameter Gear Function"
   ]
  },
  {
   "cell_type": "code",
   "execution_count": null,
   "id": "428c0717-b157-4c38-af74-8f0b650228e3",
   "metadata": {},
   "outputs": [],
   "source": [
    "import pygad\n",
    "import numpy"
   ]
  },
  {
   "cell_type": "markdown",
   "id": "b7ed03d3-f9b6-4555-8363-bdacc1b8d086",
   "metadata": {},
   "source": [
    "#### Make test function. Gear function implemented here."
   ]
  },
  {
   "cell_type": "code",
   "execution_count": null,
   "id": "c2374184-a1d1-4fee-8166-96fa64ab04c8",
   "metadata": {},
   "outputs": [],
   "source": [
    "desired_output = -2.7e-12\n",
    "def gear_function(solution, solution_idx):\n",
    "    floor = numpy.floor(solution)\n",
    "    output = -((1.0/6.931 - (floor[0]*floor[1])/(floor[2]*floor[3]))**2)\n",
    "    fitness = 1.0 / (numpy.abs(output - desired_output) + 0.000001)\n",
    "    return fitness"
   ]
  },
  {
   "cell_type": "markdown",
   "id": "f9fe58fd-880d-4d0f-b585-e88e83ea5df5",
   "metadata": {},
   "source": [
    "#### Define parameters and fit GA model "
   ]
  },
  {
   "cell_type": "code",
   "execution_count": null,
   "id": "74f7c6ae-66ea-410b-9665-084460621681",
   "metadata": {},
   "outputs": [],
   "source": [
    "%%capture\n",
    "num_generations = 10000 # Number of generations.\n",
    "num_parents_mating = 500 # Number of solutions to be selected as parents in the mating pool.\n",
    "sol_per_pop = 1000 # Number of solutions in the population.\n",
    "num_genes = 4\n",
    "gene_space = range(4,60)\n",
    "last_fitness = 0\n",
    "\n",
    "def on_generation(ga_instance):\n",
    "    global last_fitness\n",
    "    print(\"Generation = {generation}\".format(generation=ga_instance.generations_completed))\n",
    "    print(\"Fitness    = {fitness}\".format(fitness=ga_instance.best_solution(pop_fitness=ga_instance.last_generation_fitness)[1]))\n",
    "    print(\"Change     = {change}\".format(change=ga_instance.best_solution(pop_fitness=ga_instance.last_generation_fitness)[1] - last_fitness))\n",
    "    last_fitness = ga_instance.best_solution(pop_fitness=ga_instance.last_generation_fitness)[1]\n",
    "\n",
    "# Running the GA Optimization to optimize the parameters of the function.\n",
    "ga_instance = pygad.GA(num_generations=num_generations,\n",
    "                       num_parents_mating=num_parents_mating,\n",
    "                       sol_per_pop=sol_per_pop,\n",
    "                       num_genes=num_genes,\n",
    "                       fitness_func=gear_function,\n",
    "                       on_generation=on_generation,\n",
    "                       gene_space=gene_space)\n",
    "ga_instance.run()"
   ]
  },
  {
   "cell_type": "markdown",
   "id": "7134fb1f-2999-4a5d-82c6-911003ac4758",
   "metadata": {},
   "source": [
    "#### Output results"
   ]
  },
  {
   "cell_type": "code",
   "execution_count": null,
   "id": "ccfcce55-52aa-4814-b55b-c6f980cd8271",
   "metadata": {},
   "outputs": [],
   "source": [
    "ga_instance.plot_fitness()\n",
    "\n",
    "# Returning the details of the best solution.\n",
    "solution, solution_fitness, solution_idx = ga_instance.best_solution(ga_instance.last_generation_fitness)\n",
    "print(\"Parameters of the best solution : {solution}\".format(solution=solution))\n",
    "print(\"Fitness value of the best solution = {solution_fitness}\".format(solution_fitness=solution_fitness))\n",
    "print(\"Index of the best solution : {solution_idx}\".format(solution_idx=solution_idx))\n",
    "\n",
    "prediction = numpy.sum(numpy.array(function_inputs)*solution)\n",
    "print(\"Predicted output based on the best solution : {prediction}\".format(prediction=prediction))\n",
    "\n",
    "if ga_instance.best_solution_generation != -1:\n",
    "    print(\"Best fitness value reached after {best_solution_generation} generations.\".format(best_solution_generation=ga_instance.best_solution_generation))\n",
    "\n",
    "# Saving the GA instance.\n",
    "#filename = 'genetic' # The filename to which the instance is saved. The name is without extension.\n",
    "#ga_instance.save(filename=filename)\n",
    "\n",
    "# Loading the saved GA instance.\n",
    "loaded_ga_instance = pygad.load(filename=filename)\n",
    "loaded_ga_instance.plot_fitness()"
   ]
  }
 ],
 "metadata": {
  "kernelspec": {
   "display_name": "Python 3",
   "language": "python",
   "name": "python3"
  },
  "language_info": {
   "codemirror_mode": {
    "name": "ipython",
    "version": 3
   },
   "file_extension": ".py",
   "mimetype": "text/x-python",
   "name": "python",
   "nbconvert_exporter": "python",
   "pygments_lexer": "ipython3",
   "version": "3.8.8"
  }
 },
 "nbformat": 4,
 "nbformat_minor": 5
}
