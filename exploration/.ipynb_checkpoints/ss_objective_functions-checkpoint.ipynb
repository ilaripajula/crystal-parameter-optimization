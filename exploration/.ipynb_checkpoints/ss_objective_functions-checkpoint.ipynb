{
 "cells": [
  {
   "cell_type": "code",
   "execution_count": null,
   "metadata": {},
   "outputs": [],
   "source": [
    "import pandas as pd\n",
    "import numpy as np\n",
    "import matplotlib.pyplot as plt\n",
    "from scipy.interpolate import interp1d\n",
    "from sklearn.metrics import mean_squared_error"
   ]
  },
  {
   "cell_type": "code",
   "execution_count": null,
   "metadata": {},
   "outputs": [],
   "source": [
    "df = pd.read_csv('ss_curves.csv')"
   ]
  },
  {
   "cell_type": "code",
   "execution_count": null,
   "metadata": {},
   "outputs": [],
   "source": [
    "def preprocess(df):\n",
    "    stress = np.array([df[col] for col in df.columns if \"stress\" in col])\n",
    "    strain = np.array([df[col] for col in df.columns if \"strain\" in col])\n",
    "    labels = [\"Experimental\"] + [f\"Simulated {i}\" for i in range(1, len(stress)+1)]\n",
    "\n",
    "    # Cut the excess values above and below the experimental values.\n",
    "    exp_strain = strain[0]\n",
    "    x_min, x_max = 0.002, exp_strain.max()\n",
    "    prune = np.logical_and(strain[1] > x_min, strain[1] < x_max)  # Indices to prune simulated curves by\n",
    "    sim_strain = strain[1:][:, prune]\n",
    "    sim_stress = stress[1:][:, prune]\n",
    "    # Linear Interpolation\n",
    "    f = interp1d(exp_strain, stress[0])\n",
    "    exp_stress = f(sim_strain[0]) # The target curve\n",
    "    return exp_stress, sim_stress, sim_strain[0], labels, sim_strain\n",
    "\n",
    "def plot(stress, strain, label):\n",
    "    plt.figure(figsize=(10,10))\n",
    "    for x,y,label in zip(strain,stress,label):\n",
    "        plt.plot(x, y, label=label,linewidth=3)\n",
    "    plt.xlim([0,0.08])\n",
    "    plt.ylim([900,1100])\n",
    "    plt.vlines(strain[0].max(), 0, 1100, linestyle='dotted')\n",
    "    plt.title(\"Simulated vs. Experimental Stain-Stress Curves\")\n",
    "    plt.xlabel(\"Strain\")\n",
    "    plt.ylabel(\"Stress\")\n",
    "    plt.legend(fontsize='xx-large')\n",
    "    plt.show()"
   ]
  },
  {
   "cell_type": "code",
   "execution_count": null,
   "metadata": {},
   "outputs": [],
   "source": [
    "exp_stress, sim_stresses, strain, labels, sim_strains = preprocess(df)"
   ]
  },
  {
   "cell_type": "code",
   "execution_count": null,
   "metadata": {},
   "outputs": [],
   "source": [
    "exp_stress.shape"
   ]
  },
  {
   "cell_type": "code",
   "execution_count": null,
   "metadata": {},
   "outputs": [],
   "source": [
    "def D1(exp_stress, sim_stress): \n",
    "    uh = np.sum(np.square(exp_stress-sim_stress)/len(strain))\n",
    "    return uh\n",
    "\n",
    "# Testing on every index of sigma_hats\n",
    "resD1 = []\n",
    "for stress in sim_stresses:\n",
    "    print(stress.shape)\n",
    "    resD1.append(D1(exp_stress, stress))\n",
    "resD1"
   ]
  },
  {
   "cell_type": "code",
   "execution_count": null,
   "metadata": {},
   "outputs": [],
   "source": []
  },
  {
   "cell_type": "code",
   "execution_count": null,
   "metadata": {},
   "outputs": [],
   "source": [
    " "
   ]
  },
  {
   "cell_type": "markdown",
   "metadata": {},
   "source": [
    "### Loss Functions"
   ]
  },
  {
   "cell_type": "code",
   "execution_count": null,
   "metadata": {},
   "outputs": [],
   "source": [
    "def rmse(exp_stress, sim_stress): \n",
    "    return np.sqrt(mean_squared_error(exp_stress, sim_stress))\n",
    "\n",
    "def D1(exp_stress, sim_stress): # Proportional to MSE. But no easy comparison between different exp_stresses.\n",
    "    return np.sqrt(np.sum(np.square(sim_stress - exp_stress)) / np.sum(np.square(exp_stress)))\n",
    "\n",
    "def D1_local(exp_stress, sim_stress): # L2 local loss\n",
    "    return np.square(exp_stress-sim_stress)\n",
    "\n",
    "def D2(exp_stress, sim_stress):\n",
    "    return np.abs(((sim_stress[-1] - sim_stress[0]) - (exp_stress[-1] - exp_stress[0] )) / (exp_stress[-1] - exp_stress[0]))\n",
    "\n",
    "def combined_loss(exp_stress, sim_stress, w1, w2): #wL2 and wD2 are the weights chosen for each type of objective funtion\n",
    "    return w2*(D1(exp_stress, sim_stress)) + w2*(D2(exp_stress, sim_stress))"
   ]
  },
  {
   "cell_type": "code",
   "execution_count": null,
   "metadata": {},
   "outputs": [],
   "source": [
    "rmse_loss = [] \n",
    "D1_loss = []\n",
    "D2_loss = []\n",
    "combined_losses = []\n",
    "\n",
    "for sim_stress in sim_stresses:\n",
    "    rmse_loss.append(rmse(exp_stress, sim_stress))\n",
    "    D1_loss.append(D1(exp_stress,sim_stress))\n",
    "    D2_loss.append(D2(exp_stress,sim_stress))\n",
    "    combined_losses.append(combined_loss(exp_stress,sim_stress,0.9,0.1))"
   ]
  },
  {
   "cell_type": "code",
   "execution_count": null,
   "metadata": {},
   "outputs": [],
   "source": [
    "losses = pd.DataFrame(np.array([ D1_loss, D2_loss, combined_losses]).T, columns = [ 'd1', 'd2', 'combined'])\n",
    "plt.bar(x=range(3), height=losses.iloc[6])\n",
    "losses"
   ]
  },
  {
   "cell_type": "markdown",
   "metadata": {},
   "source": [
    "# D1 Loss"
   ]
  },
  {
   "cell_type": "code",
   "execution_count": null,
   "metadata": {},
   "outputs": [],
   "source": [
    "plot(np.vstack((exp_stress,sim_stresses)), np.tile(strain,(8,1)), ['exp'] + D1_loss)"
   ]
  },
  {
   "cell_type": "markdown",
   "metadata": {},
   "source": [
    "### D2 Loss"
   ]
  },
  {
   "cell_type": "code",
   "execution_count": null,
   "metadata": {},
   "outputs": [],
   "source": [
    "plot(np.vstack((exp_stress,sim_stresses)), np.tile(strain,(8,1)), ['exp'] + D2_loss)"
   ]
  },
  {
   "cell_type": "markdown",
   "metadata": {},
   "source": [
    "# RMSE"
   ]
  },
  {
   "cell_type": "code",
   "execution_count": null,
   "metadata": {},
   "outputs": [],
   "source": [
    "plot(np.vstack((exp_stress,sim_stresses)), np.tile(strain,(8,1)), ['exp'] + rmse_loss)"
   ]
  },
  {
   "cell_type": "code",
   "execution_count": null,
   "metadata": {},
   "outputs": [],
   "source": [
    "fig,ax = plt.subplots(1,2)\n",
    "ax[0,1] = plt.bar(x=range(1,8), height=D2_loss)"
   ]
  },
  {
   "cell_type": "markdown",
   "metadata": {},
   "source": [
    "### Local RMSE Loss Visualized"
   ]
  },
  {
   "cell_type": "code",
   "execution_count": null,
   "metadata": {},
   "outputs": [],
   "source": [
    "plt.figure(figsize=(12,12))\n",
    "plt.plot(strain, exp_stress, linewidth=5, label=\"Experimental Strain-Stress\")\n",
    "plt.plot(strain, sim_stresses[1],  linewidth=5, label=\"Simulated Strain-Stress\")\n",
    "plt.fill_between(strain, exp_stress, sim_stresses[1], color='grey', alpha=0.7)\n",
    "plt.bar(strain, np.sqrt(D1_local(exp_stress, sim_stresses[1])), width=strain[1]-strain[0], align='edge', bottom=800, alpha=0.6, label=\"RMSE (not to scale)\"),\n",
    "plt.xlabel(\"Strain\",fontsize='x-large')\n",
    "plt.ylabel(\"Stress (MPa)\",fontsize='x-large')\n",
    "plt.legend(fontsize='xx-large')"
   ]
  },
  {
   "cell_type": "code",
   "execution_count": null,
   "metadata": {},
   "outputs": [],
   "source": [
    "labels = ['S1', 'S2', 'S3', 'S4', 'S5', 'S6', 'S7']\n",
    "\n",
    "w1 = 0.7\n",
    "w2 = 1e-6\n",
    "w3 = 0.3\n",
    "w4 = 1e-5\n",
    "width = 0.55       # the width of the bars: can also be len(x) sequence\n",
    "\n",
    "fig, ax = plt.subplots()\n",
    "L1 = np.array(resD1)*w1\n",
    "L2 = np.array(resD2)*w2\n",
    "L3 = np.array(resD3)*w3\n",
    "L4 = np.array(resD4)*w4\n",
    "\n",
    "ax.bar(labels, L1, width, label='D1')\n",
    "ax.bar(labels, L2, width, bottom=L1 , label='D2')\n",
    "ax.bar(labels, L3, width, bottom=L1+L2, label='D3')\n",
    "ax.bar(labels, L4, width, bottom=L1+L2+L3, label='D4')\n",
    "\n",
    "ax.set_ylabel('Scores')\n",
    "ax.set_title('Objectice Function Results')\n",
    "ax.legend()\n",
    "\n",
    "plt.show()"
   ]
  },
  {
   "cell_type": "code",
   "execution_count": null,
   "metadata": {},
   "outputs": [],
   "source": [
    "d1 = np.diff(exp_stress)/np.diff(strain)"
   ]
  },
  {
   "cell_type": "code",
   "execution_count": null,
   "metadata": {},
   "outputs": [],
   "source": [
    "plt.plot(strain[1:], d1)"
   ]
  },
  {
   "cell_type": "code",
   "execution_count": null,
   "metadata": {},
   "outputs": [],
   "source": []
  }
 ],
 "metadata": {
  "kernelspec": {
   "display_name": "Python 3",
   "language": "python",
   "name": "python3"
  },
  "language_info": {
   "codemirror_mode": {
    "name": "ipython",
    "version": 3
   },
   "file_extension": ".py",
   "mimetype": "text/x-python",
   "name": "python",
   "nbconvert_exporter": "python",
   "pygments_lexer": "ipython3",
   "version": "3.8.8"
  }
 },
 "nbformat": 4,
 "nbformat_minor": 4
}
