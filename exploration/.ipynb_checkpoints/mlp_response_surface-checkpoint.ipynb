{
 "cells": [
  {
   "cell_type": "markdown",
   "id": "32855f65",
   "metadata": {},
   "source": [
    "# MLP Response Surface fit and evaluate.\n",
    "Initializes dataloader and loggers before fitting a resposne surface."
   ]
  },
  {
   "cell_type": "code",
   "execution_count": null,
   "id": "4e817d35",
   "metadata": {},
   "outputs": [],
   "source": [
    "import torch\n",
    "import pytorch_lightning as pl\n",
    "from mlp_response_surface.cp_dataloader import DataModule\n",
    "from mlp_response_surface.mlp_response_surface import MLPResponse\n",
    "from pytorch_lightning.loggers import TensorBoardLogger\n",
    "from pytorch_lightning.callbacks import EarlyStopping, ModelCheckpoint"
   ]
  },
  {
   "cell_type": "markdown",
   "id": "07e3e588",
   "metadata": {},
   "source": [
    "The provide the PATHs to your data in the dataloader"
   ]
  },
  {
   "cell_type": "code",
   "execution_count": null,
   "id": "d199893a",
   "metadata": {},
   "outputs": [],
   "source": [
    "data_module = DataModule(\n",
    "    DATA_PATH=\"ss_curves.csv\",\n",
    "    LABEL_PATH=\"./embeddings/edge_csvs/labels.csv\",\n",
    "    train_size=6/7,\n",
    "    num_workers=4,\n",
    "    multiclass=False, # False when using LinearClassifer\n",
    ")\n",
    "data_module.prepare_data()\n",
    "strain_range = data_module.strain\n",
    "\n",
    "model = MLPResponse(\n",
    "    input_dim=4,\n",
    "    output_dim=data_module.df.shape[1],\n",
    "    strain=strain_range,\n",
    ")"
   ]
  },
  {
   "cell_type": "code",
   "execution_count": null,
   "id": "b5bed4c4",
   "metadata": {},
   "outputs": [],
   "source": [
    "trainer = pl.Trainer(gpus=1, max_epochs=16)"
   ]
  },
  {
   "cell_type": "markdown",
   "id": "a32c7700",
   "metadata": {},
   "source": [
    "##### Fit the model"
   ]
  },
  {
   "cell_type": "code",
   "execution_count": null,
   "id": "3ff5f7c3",
   "metadata": {},
   "outputs": [],
   "source": [
    "# Set the seed right before starting the training\n",
    "pl.utilities.seed.seed_everything(0)\n",
    "trainer.fit(model, data_module)"
   ]
  },
  {
   "cell_type": "code",
   "execution_count": null,
   "id": "7e6e6803",
   "metadata": {},
   "outputs": [],
   "source": []
  }
 ],
 "metadata": {
  "interpreter": {
   "hash": "28e0bae47deae031363fd7432b72deb8e338c72e95b86edd39a30657be170891"
  },
  "kernelspec": {
   "display_name": "Python 3",
   "language": "python",
   "name": "python3"
  },
  "language_info": {
   "codemirror_mode": {
    "name": "ipython",
    "version": 3
   },
   "file_extension": ".py",
   "mimetype": "text/x-python",
   "name": "python",
   "nbconvert_exporter": "python",
   "pygments_lexer": "ipython3",
   "version": "3.8.8"
  }
 },
 "nbformat": 4,
 "nbformat_minor": 5
}
